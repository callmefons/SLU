{
  "nbformat": 4,
  "nbformat_minor": 0,
  "metadata": {
    "colab": {
      "name": "SLU.ipynb",
      "provenance": [],
      "collapsed_sections": []
    },
    "kernelspec": {
      "display_name": "Python 3",
      "name": "python3"
    },
    "accelerator": "GPU"
  },
  "cells": [
    {
      "cell_type": "markdown",
      "metadata": {
        "id": "4_C-plC1rZ_w"
      },
      "source": [
        "# Deep Learning for Conversational AI"
      ]
    },
    {
      "cell_type": "markdown",
      "metadata": {
        "id": "K7lVCfZXsnd0"
      },
      "source": [
        "# Importing libraries"
      ]
    },
    {
      "cell_type": "code",
      "metadata": {
        "id": "vFhaBQ8TGhWt",
        "colab": {
          "base_uri": "https://localhost:8080/"
        },
        "outputId": "1365264a-2f58-48a3-cb2c-c6e18cef2160"
      },
      "source": [
        "# linear algebra\n",
        "import numpy as np \n",
        "# data processing, CSV file I/O \n",
        "import pandas as pd \n",
        "\n",
        "# deep learning, text preprocessing\n",
        "import tensorflow as tf\n",
        "print(\"tensorflow version: \" + tf.__version__)\n",
        "from tensorflow.keras.preprocessing.text import Tokenizer\n",
        "from tensorflow.keras.preprocessing.sequence import pad_sequences\n",
        "from tensorflow.keras.utils import to_categorical\n",
        "from tensorflow.keras import regularizers\n",
        "from tensorflow.keras.optimizers import Adam\n",
        "\n",
        "# data visualization\n",
        "import matplotlib.pyplot as plt\n",
        "\n",
        "import pickle\n",
        "import json\n",
        "import warnings\n",
        "warnings.filterwarnings('ignore')"
      ],
      "execution_count": null,
      "outputs": [
        {
          "output_type": "stream",
          "text": [
            "tensorflow version: 2.4.1\n"
          ],
          "name": "stdout"
        }
      ]
    },
    {
      "cell_type": "markdown",
      "metadata": {
        "id": "tLJf4An8tmL9"
      },
      "source": [
        "# Text preprocessing"
      ]
    },
    {
      "cell_type": "markdown",
      "metadata": {
        "id": "d0G2MT9quuLN"
      },
      "source": [
        "# Dataset\n",
        "Built-in intents (Apple’s SiriKit, Amazon’s Alexa, Microsoft’s Luis, Google’s API.ai, and Snips.ai) on a selection of various intents. This benchmark was performed in December 2016. Its results are described in length in the following post. [Dataset](https://github.com/sonos/nlu-benchmark)"
      ]
    },
    {
      "cell_type": "code",
      "metadata": {
        "colab": {
          "base_uri": "https://localhost:8080/",
          "height": 204
        },
        "id": "B0A_4VE0RXXa",
        "outputId": "667b411c-4f12-4961-c95a-a43262859dfe"
      },
      "source": [
        "df = pd.read_csv(\"snip.csv\")\n",
        "df.head()"
      ],
      "execution_count": null,
      "outputs": [
        {
          "output_type": "execute_result",
          "data": {
            "text/html": [
              "<div>\n",
              "<style scoped>\n",
              "    .dataframe tbody tr th:only-of-type {\n",
              "        vertical-align: middle;\n",
              "    }\n",
              "\n",
              "    .dataframe tbody tr th {\n",
              "        vertical-align: top;\n",
              "    }\n",
              "\n",
              "    .dataframe thead th {\n",
              "        text-align: right;\n",
              "    }\n",
              "</style>\n",
              "<table border=\"1\" class=\"dataframe\">\n",
              "  <thead>\n",
              "    <tr style=\"text-align: right;\">\n",
              "      <th></th>\n",
              "      <th>Unnamed: 0</th>\n",
              "      <th>text</th>\n",
              "      <th>intent</th>\n",
              "    </tr>\n",
              "  </thead>\n",
              "  <tbody>\n",
              "    <tr>\n",
              "      <th>0</th>\n",
              "      <td>0</td>\n",
              "      <td>add Stani, stani Ibar vodo songs in my playlis...</td>\n",
              "      <td>AddToPlaylist</td>\n",
              "    </tr>\n",
              "    <tr>\n",
              "      <th>1</th>\n",
              "      <td>1</td>\n",
              "      <td>add this album to my Blues playlist</td>\n",
              "      <td>AddToPlaylist</td>\n",
              "    </tr>\n",
              "    <tr>\n",
              "      <th>2</th>\n",
              "      <td>2</td>\n",
              "      <td>Add the tune to the Rage Radio playlist.</td>\n",
              "      <td>AddToPlaylist</td>\n",
              "    </tr>\n",
              "    <tr>\n",
              "      <th>3</th>\n",
              "      <td>3</td>\n",
              "      <td>Add WC Handy to my Sax and the City playlist</td>\n",
              "      <td>AddToPlaylist</td>\n",
              "    </tr>\n",
              "    <tr>\n",
              "      <th>4</th>\n",
              "      <td>4</td>\n",
              "      <td>Add BSlade to women of k-pop playlist</td>\n",
              "      <td>AddToPlaylist</td>\n",
              "    </tr>\n",
              "  </tbody>\n",
              "</table>\n",
              "</div>"
            ],
            "text/plain": [
              "   Unnamed: 0                                               text         intent\n",
              "0           0  add Stani, stani Ibar vodo songs in my playlis...  AddToPlaylist\n",
              "1           1                add this album to my Blues playlist  AddToPlaylist\n",
              "2           2           Add the tune to the Rage Radio playlist.  AddToPlaylist\n",
              "3           3       Add WC Handy to my Sax and the City playlist  AddToPlaylist\n",
              "4           4              Add BSlade to women of k-pop playlist  AddToPlaylist"
            ]
          },
          "metadata": {
            "tags": []
          },
          "execution_count": 206
        }
      ]
    },
    {
      "cell_type": "code",
      "metadata": {
        "colab": {
          "base_uri": "https://localhost:8080/"
        },
        "id": "2-S7W-A1vw37",
        "outputId": "7a53a834-26c8-4369-8df6-e6920ae9cde3"
      },
      "source": [
        "print(df['intent'].unique())\n",
        "\n",
        "num_classes = df['intent'].nunique()\n",
        "print(num_classes)"
      ],
      "execution_count": null,
      "outputs": [
        {
          "output_type": "stream",
          "text": [
            "['AddToPlaylist' 'PlayMusic' 'BookRestaurant' 'GetWeather' 'RateBook'\n",
            " 'SearchCreativeWork' 'SearchScreeningEvent']\n",
            "7\n"
          ],
          "name": "stdout"
        }
      ]
    },
    {
      "cell_type": "code",
      "metadata": {
        "colab": {
          "base_uri": "https://localhost:8080/"
        },
        "id": "73FFzNWNUzdy",
        "outputId": "ba2ad8ec-6799-4816-a823-f90b3684f42d"
      },
      "source": [
        "len(df)"
      ],
      "execution_count": null,
      "outputs": [
        {
          "output_type": "execute_result",
          "data": {
            "text/plain": [
              "2100"
            ]
          },
          "metadata": {
            "tags": []
          },
          "execution_count": 208
        }
      ]
    },
    {
      "cell_type": "code",
      "metadata": {
        "colab": {
          "base_uri": "https://localhost:8080/",
          "height": 204
        },
        "id": "8zjcYSWXUK2A",
        "outputId": "d7d56010-a1a4-44da-ee00-6bd1981d10e9"
      },
      "source": [
        "# convert the type of intent columns to 'category'\n",
        "df['intent'] = df['intent'].astype('category')\n",
        "\n",
        "# create a new column contaning numeric values of intent columns\n",
        "df['intent_cat'] = df['intent'].cat.codes\n",
        "df.head()"
      ],
      "execution_count": null,
      "outputs": [
        {
          "output_type": "execute_result",
          "data": {
            "text/html": [
              "<div>\n",
              "<style scoped>\n",
              "    .dataframe tbody tr th:only-of-type {\n",
              "        vertical-align: middle;\n",
              "    }\n",
              "\n",
              "    .dataframe tbody tr th {\n",
              "        vertical-align: top;\n",
              "    }\n",
              "\n",
              "    .dataframe thead th {\n",
              "        text-align: right;\n",
              "    }\n",
              "</style>\n",
              "<table border=\"1\" class=\"dataframe\">\n",
              "  <thead>\n",
              "    <tr style=\"text-align: right;\">\n",
              "      <th></th>\n",
              "      <th>Unnamed: 0</th>\n",
              "      <th>text</th>\n",
              "      <th>intent</th>\n",
              "      <th>intent_cat</th>\n",
              "    </tr>\n",
              "  </thead>\n",
              "  <tbody>\n",
              "    <tr>\n",
              "      <th>0</th>\n",
              "      <td>0</td>\n",
              "      <td>add Stani, stani Ibar vodo songs in my playlis...</td>\n",
              "      <td>AddToPlaylist</td>\n",
              "      <td>0</td>\n",
              "    </tr>\n",
              "    <tr>\n",
              "      <th>1</th>\n",
              "      <td>1</td>\n",
              "      <td>add this album to my Blues playlist</td>\n",
              "      <td>AddToPlaylist</td>\n",
              "      <td>0</td>\n",
              "    </tr>\n",
              "    <tr>\n",
              "      <th>2</th>\n",
              "      <td>2</td>\n",
              "      <td>Add the tune to the Rage Radio playlist.</td>\n",
              "      <td>AddToPlaylist</td>\n",
              "      <td>0</td>\n",
              "    </tr>\n",
              "    <tr>\n",
              "      <th>3</th>\n",
              "      <td>3</td>\n",
              "      <td>Add WC Handy to my Sax and the City playlist</td>\n",
              "      <td>AddToPlaylist</td>\n",
              "      <td>0</td>\n",
              "    </tr>\n",
              "    <tr>\n",
              "      <th>4</th>\n",
              "      <td>4</td>\n",
              "      <td>Add BSlade to women of k-pop playlist</td>\n",
              "      <td>AddToPlaylist</td>\n",
              "      <td>0</td>\n",
              "    </tr>\n",
              "  </tbody>\n",
              "</table>\n",
              "</div>"
            ],
            "text/plain": [
              "   Unnamed: 0  ... intent_cat\n",
              "0           0  ...          0\n",
              "1           1  ...          0\n",
              "2           2  ...          0\n",
              "3           3  ...          0\n",
              "4           4  ...          0\n",
              "\n",
              "[5 rows x 4 columns]"
            ]
          },
          "metadata": {
            "tags": []
          },
          "execution_count": 209
        }
      ]
    },
    {
      "cell_type": "code",
      "metadata": {
        "colab": {
          "base_uri": "https://localhost:8080/",
          "height": 204
        },
        "id": "WhFAQ476jRlU",
        "outputId": "4ac82faf-9fcc-48d2-dcdf-605511f1b130"
      },
      "source": [
        "# random the sample of dataset with 100% \n",
        "df = df.sample(frac=1).reset_index(drop=True)\n",
        "df.head()"
      ],
      "execution_count": null,
      "outputs": [
        {
          "output_type": "execute_result",
          "data": {
            "text/html": [
              "<div>\n",
              "<style scoped>\n",
              "    .dataframe tbody tr th:only-of-type {\n",
              "        vertical-align: middle;\n",
              "    }\n",
              "\n",
              "    .dataframe tbody tr th {\n",
              "        vertical-align: top;\n",
              "    }\n",
              "\n",
              "    .dataframe thead th {\n",
              "        text-align: right;\n",
              "    }\n",
              "</style>\n",
              "<table border=\"1\" class=\"dataframe\">\n",
              "  <thead>\n",
              "    <tr style=\"text-align: right;\">\n",
              "      <th></th>\n",
              "      <th>Unnamed: 0</th>\n",
              "      <th>text</th>\n",
              "      <th>intent</th>\n",
              "      <th>intent_cat</th>\n",
              "    </tr>\n",
              "  </thead>\n",
              "  <tbody>\n",
              "    <tr>\n",
              "      <th>0</th>\n",
              "      <td>1582</td>\n",
              "      <td>Please help me find the Selections from the Ar...</td>\n",
              "      <td>SearchCreativeWork</td>\n",
              "      <td>5</td>\n",
              "    </tr>\n",
              "    <tr>\n",
              "      <th>1</th>\n",
              "      <td>512</td>\n",
              "      <td>Play the latest Peter Green.</td>\n",
              "      <td>PlayMusic</td>\n",
              "      <td>3</td>\n",
              "    </tr>\n",
              "    <tr>\n",
              "      <th>2</th>\n",
              "      <td>1175</td>\n",
              "      <td>What will the weather be in Berville AK on Feb...</td>\n",
              "      <td>GetWeather</td>\n",
              "      <td>2</td>\n",
              "    </tr>\n",
              "    <tr>\n",
              "      <th>3</th>\n",
              "      <td>593</td>\n",
              "      <td>Play music from 1972</td>\n",
              "      <td>PlayMusic</td>\n",
              "      <td>3</td>\n",
              "    </tr>\n",
              "    <tr>\n",
              "      <th>4</th>\n",
              "      <td>1154</td>\n",
              "      <td>I need the weather for 7/13/2036 in Gwynedd Va...</td>\n",
              "      <td>GetWeather</td>\n",
              "      <td>2</td>\n",
              "    </tr>\n",
              "  </tbody>\n",
              "</table>\n",
              "</div>"
            ],
            "text/plain": [
              "   Unnamed: 0  ... intent_cat\n",
              "0        1582  ...          5\n",
              "1         512  ...          3\n",
              "2        1175  ...          2\n",
              "3         593  ...          3\n",
              "4        1154  ...          2\n",
              "\n",
              "[5 rows x 4 columns]"
            ]
          },
          "metadata": {
            "tags": []
          },
          "execution_count": 210
        }
      ]
    },
    {
      "cell_type": "code",
      "metadata": {
        "colab": {
          "base_uri": "https://localhost:8080/"
        },
        "id": "ZXwsUMluTFke",
        "outputId": "bdb45ef2-93f9-44fe-98b5-5766103dddb9"
      },
      "source": [
        "# create labels and sentences\n",
        "labels = df['intent_cat'].values\n",
        "sentences = df['text'].values\n",
        "\n",
        "print(labels[:1])\n",
        "print(sentences[:1])"
      ],
      "execution_count": null,
      "outputs": [
        {
          "output_type": "stream",
          "text": [
            "[5]\n",
            "['Please help me find the Selections from the Arista Years video game.']\n"
          ],
          "name": "stdout"
        }
      ]
    },
    {
      "cell_type": "code",
      "metadata": {
        "colab": {
          "base_uri": "https://localhost:8080/"
        },
        "id": "1QOLXFDnx1-F",
        "outputId": "18bb95a2-07e2-4ad1-acf7-9e78758ee109"
      },
      "source": [
        "# find the maximum number of words in sentences\n",
        "max_sequence_len = max([len(x) for x in sentences])\n",
        "print(max_sequence_len)"
      ],
      "execution_count": null,
      "outputs": [
        {
          "output_type": "stream",
          "text": [
            "135\n"
          ],
          "name": "stdout"
        }
      ]
    },
    {
      "cell_type": "code",
      "metadata": {
        "id": "3QLi0NyYSQrC",
        "colab": {
          "base_uri": "https://localhost:8080/"
        },
        "outputId": "19777323-a1e1-4212-875e-0f1e23fa857d"
      },
      "source": [
        "# define processing strategies\n",
        "trunc_type='post'\n",
        "padding_type='post'\n",
        "oov_tok = \"<OOV>\"\n",
        "\n",
        "# tokenize text into a list of tokens\n",
        "# each integer being the index of a token in a dictionary\n",
        "tokenizer = Tokenizer(oov_token=oov_tok)\n",
        "tokenizer.fit_on_texts(sentences)\n",
        "\n",
        "word_index = tokenizer.word_index\n",
        "vocab_size = len(word_index)\n",
        "\n",
        "print(word_index)\n",
        "print(\"vocab_size:\", vocab_size)"
      ],
      "execution_count": null,
      "outputs": [
        {
          "output_type": "stream",
          "text": [
            "{'<OOV>': 1, 'the': 2, 'to': 3, 'a': 4, 'in': 5, 'for': 6, 'of': 7, 'at': 8, 'i': 9, 'book': 10, 'me': 11, 'add': 12, 'playlist': 13, 'my': 14, 'is': 15, 'play': 16, 'find': 17, 'from': 18, '6': 19, 'give': 20, 'want': 21, 'please': 22, 'this': 23, 'movie': 24, 'what': 25, 'out': 26, 'weather': 27, 'be': 28, 'will': 29, 'on': 30, 'and': 31, 'by': 32, 'rate': 33, 'can': 34, 'it': 35, 'stars': 36, 'current': 37, 'restaurant': 38, 'you': 39, 'points': 40, 'reservation': 41, 'album': 42, 'music': 43, 'playing': 44, 'show': 45, 'forecast': 46, 'need': 47, 'schedule': 48, 'movies': 49, 'table': 50, 'song': 51, 'people': 52, 'search': 53, 'one': 54, 'now': 55, 'theatres': 56, 'some': 57, 'see': 58, 'house': 59, 'get': 60, 'track': 61, 'novel': 62, 'work': 63, 'look': 64, 'are': 65, 'two': 66, 'four': 67, '2': 68, 'an': 69, '5': 70, 'times': 71, 'when': 72, 'like': 73, '1': 74, 'that': 75, 'up': 76, '4': 77, 'hear': 78, 'showing': 79, 'artist': 80, '3': 81, 'animated': 82, 'tune': 83, 'called': 84, 'spot': 85, 'with': 86, 'series': 87, 'game': 88, 'five': 89, 'textbook': 90, 'there': 91, '0': 92, 'theatre': 93, 'closest': 94, 'new': 95, 'tell': 96, 'put': 97, 'saga': 98, 'rating': 99, 'here': 100, 'close': 101, 'three': 102, 'rated': 103, 'list': 104, 'nearest': 105, 'essay': 106, 'party': 107, 'cinema': 108, 'top': 109, 'tv': 110, 'bar': 111, 'rock': 112, 'last': 113, 'zero': 114, 'listen': 115, 'love': 116, 'national': 117, 'm': 118, 'onto': 119, \"what's\": 120, 'looking': 121, 'best': 122, 'help': 123, 'something': 124, 'park': 125, 'nearby': 126, 'picture': 127, 'films': 128, 'am': 129, 'highly': 130, 'seven': 131, 'serves': 132, \"i'd\": 133, 'metal': 134, 'hours': 135, 'would': 136, 'pop': 137, '7': 138, 'hits': 139, 'trailer': 140, 'photograph': 141, 'any': 142, 'area': 143, 'six': 144, 'eight': 145, 'schedules': 146, 'songs': 147, 'pub': 148, 'television': 149, 'chronicle': 150, 'creative': 151, 'b': 152, 'hot': 153, 'all': 154, 'pm': 155, 'within': 156, 'lastfm': 157, 'twenty': 158, 'cold': 159, 'cafe': 160, 'week': 161, 'wish': 162, 'man': 163, '9': 164, 'around': 165, 'painting': 166, 'city': 167, 'soundtrack': 168, 'day': 169, 'groove': 170, 'video': 171, 'de': 172, 'women': 173, 'neighborhood': 174, 'night': 175, 'vimeo': 176, 'good': 177, 'itunes': 178, 'p': 179, 'year': 180, 'where': 181, 'star': 182, 'far': 183, 'north': 184, 'shark': 185, 'place': 186, 'location': 187, 'near': 188, 'food': 189, 'classical': 190, 'off': 191, 'days': 192, 'chillier': 193, 'open': 194, 'deezer': 195, 'time': 196, '10': 197, 'minute': 198, 'great': 199, 'john': 200, 'colder': 201, 'years': 202, 'valley': 203, 'west': 204, 'state': 205, '8': 206, 'titled': 207, 'we': 208, 'hotter': 209, 'distance': 210, 'youtube': 211, 'old': 212, 'eat': 213, 'black': 214, 'seconds': 215, 'fifties': 216, 'american': 217, 'going': 218, 'ten': 219, 'cinemas': 220, 'islands': 221, 'next': 222, 'if': 223, 'fm': 224, 'service': 225, 'oyster': 226, 'nine': 227, 'warm': 228, 'walking': 229, 'freezing': 230, 'dance': 231, 'starting': 232, 'east': 233, 'warmer': 234, 'february': 235, 'world': 236, 'river': 237, 'title': 238, 'temperate': 239, 'death': 240, 'lake': 241, 'little': 242, 'no': 243, 'nineties': 244, 'thirties': 245, 'united': 246, 'gaming': 247, 'hour': 248, 'neighbourhood': 249, 'latest': 250, '13': 251, 'possible': 252, 'entertainment': 253, 'google': 254, 'ep': 255, 'island': 256, 'cloud': 257, 'devil': 258, 'through': 259, 'steakhouse': 260, 'second': 261, 'latin': 262, 'windy': 263, 'minutes': 264, 'live': 265, 'movement': 266, 'slacker': 267, 'sound': 268, '–': 269, 'our': 270, 'check': 271, 'which': 272, 'popular': 273, 'jazz': 274, 'south': 275, 'road': 276, 'brasserie': 277, 'cineplex': 278, 'them': 279, \"o'clock\": 280, 'fourties': 281, 'or': 282, 'locate': 283, 'weeks': 284, 'mark': 285, 'twenties': 286, 'corporation': 287, 'go': 288, 'has': 289, 'history': 290, 'month': 291, 'classic': 292, 'classics': 293, 'neighboring': 294, 'fifty': 295, 'first': 296, 'spotify': 297, 'just': 298, 'country': 299, 'pandora': 300, \"i'm\": 301, 'states': 302, 'somewhere': 303, \"how's\": 304, 'was': 305, 'dakota': 306, 'workout': 307, 'd': 308, 'r': 309, 'life': 310, 'los': 311, 'not': 312, 'wildlife': 313, 'distant': 314, 'blues': 315, 'center': 316, 'dinner': 317, 'irish': 318, 'record': 319, 'may': 320, 'pacific': 321, 'april': 322, 'chill': 323, 'bow': 324, 'showings': 325, 'start': 326, 'punk': 327, 'foggy': 328, 'malco': 329, 'loews': 330, 'hollywood': 331, 'concerto': 332, 'funk': 333, 'soul': 334, 'greatest': 335, 'ii': 336, 'french': 337, 'fast': 338, 'their': 339, 'folk': 340, 'home': 341, 'osteria': 342, 'august': 343, 'jul': 344, 'martin': 345, 'court': 346, 'guitar': 347, 'newest': 348, 'rain': 349, 'escape': 350, 'novedades': 351, 'chant': 352, 'micronesia': 353, 'el': 354, 'mejor': 355, '22': 356, 'theaters': 357, 'radio': 358, 'eighties': 359, '50': 360, 'va': 361, 'indie': 362, 'theater': 363, 'reggae': 364, 'la': 365, 'sun': 366, 'refuge': 367, 'paramount': 368, 'right': 369, 'mar': 370, 'happy': 371, 'how': 372, '2037': 373, 'school': 374, 'tie': 375, 'your': 376, 'lo': 377, 'same': 378, 'girl': 379, 'trip': 380, 'saint': 381, 'green': 382, 'eleven': 383, 't': 384, 's': 385, 'disco': 386, 'name': 387, 'lost': 388, 'way': 389, 'u': 390, 'war': 391, 'hard': 392, 'kiss': 393, 'symphony': 394, 'come': 395, 'fl': 396, 'condition': 397, '2026': 398, 'hill': 399, 'tony': 400, 'delaware': 401, 'mi': 402, 'secret': 403, 'know': 404, 'using': 405, 'before': 406, 'afternoon': 407, 'big': 408, 'serving': 409, 'wind': 410, 'hundred': 411, 'point': 412, 'indoor': 413, 'roll': 414, 'nd': 415, 'en': 416, 'español': 417, 'midnight': 418, 'aug': 419, 'nm': 420, 'short': 421, 'wild': 422, 'boy': 423, 'natural': 424, 'baby': 425, 'chilly': 426, 'woman': 427, 'tomorrow': 428, '12': 429, 'joint': 430, 'added': 431, 'te': 432, 'sunrise': 433, 'make': 434, 'genre': 435, '14': 436, 'snow': 437, 'group': 438, 'louisiana': 439, 'chicken': 440, 'september': 441, 'blue': 442, 'mountain': 443, \"that's\": 444, 'position': 445, 'club': 446, 'spa': 447, 'hi': 448, 'heart': 449, 'against': 450, 'back': 451, 'santikos': 452, 'faraway': 453, \"let's\": 454, 'mike': 455, 'hotel': 456, '21': 457, 'bakery': 458, 'sunny': 459, 'most': 460, 'mt': 461, '21st': 462, 'nice': 463, 'james': 464, 'blizzard': 465, 'assign': 466, 'hanging': 467, 'tennessee': 468, 'dc': 469, 'who': 470, 'mccoy': 471, 'company': 472, 'bay': 473, 'march': 474, 'stone': 475, '1993': 476, 'y': 477, 'johnson': 478, 'conditions': 479, 'tracks': 480, 'grand': 481, 'humid': 482, 'feb': 483, '2017': 484, '2036': 485, 'italian': 486, 'comedy': 487, 'hope': 488, 'jenifer': 489, 'affair': 490, 'imax': 491, 'young': 492, 'netflix': 493, 'douglas': 494, 'forest': 495, 'snowy': 496, 'horse': 497, 'own': 498, 'iron': 499, 'feel': 500, 'fifteenth': 501, 'acoustic': 502, 'g': 503, 'hunter': 504, 'turn': 505, 'nov': 506, 'e': 507, 'sort': 508, 'breakfast': 509, '2038': 510, 'mix': 511, 'score': 512, 'long': 513, 'as': 514, 'final': 515, 'bob': 516, 'things': 517, 'post': 518, 'ny': 519, 'columbia': 520, 'christmas': 521, 'jan': 522, 'cobb': 523, '2016': 524, 'enjoy': 525, 'very': 526, 'federated': 527, 'fine': 528, 'crystal': 529, 'drive': 530, 'da': 531, 'earth': 532, 'guam': 533, 'light': 534, 'journal': 535, 'música': 536, 'sleep': 537, 'super': 538, 'eighteen': 539, 'zvooq': 540, 'men': 541, 'guest': 542, 'peace': 543, 'c': 544, 'j': 545, 'vt': 546, '02': 547, 'about': 548, 'pat': 549, 'dead': 550, 'georgia': 551, 'palau': 552, 'kind': 553, 'tokyo': 554, 'rising': 555, 'after': 556, 'sin': 557, 'borough': 558, 'doctor': 559, 'tea': 560, 'matthew': 561, 'michael': 562, 'paul': 563, '1975': 564, 'step': 565, '10th': 566, 'could': 567, 'hip': 568, 'hop': 569, 'they': 570, 'falls': 571, 'arclight': 572, 'twelve': 573, 'she': 574, 'anywhere': 575, 'humidity': 576, 'cherry': 577, 'diner': 578, 'hail': 579, 'wi': 580, 'project': 581, 'glass': 582, '1986': 583, 'laos': 584, 'air': 585, 'oct': 586, 'delicatessen': 587, 'red': 588, 'al': 589, 'jacob': 590, 'preserve': 591, 'creek': 592, '2020': 593, 'only': 594, '2033': 595, 'amco': 596, 'heights': 597, 'ramirez': 598, 'coffeehouse': 599, 'hearts': 600, 'jimmy': 601, 'anything': 602, 'friend': 603, 'never': 604, 'hero': 605, 'summer': 606, 'should': 607, 'bill': 608, 'amc': 609, 'let': 610, 'film': 611, 'souls': 612, 'overcast': 613, 'today': 614, 'october': 615, 'mozart': 616, 'mh': 617, 'storm': 618, 'part': 619, 'battle': 620, 'mn': 621, 'stuff': 622, '11': 623, 'todo': 624, 'than': 625, 'society': 626, 'its': 627, 'enemies': 628, 'southern': 629, 'fourteen': 630, 'street': 631, 'chase': 632, 'cleaning': 633, 'person': 634, 'kenya': 635, 'york': 636, 'le': 637, 'machine': 638, 'gary': 639, 'box': 640, 'head': 641, '2023': 642, 'mr': 643, 'eleventh': 644, 'evening': 645, 'sweet': 646, 'meal': 647, 'san': 648, 'union': 649, 'king': 650, 'fair': 651, 'annie': 652, 'robert': 653, 'montserrat': 654, 'journey': 655, 'fort': 656, 'mexico': 657, 'carolina': 658, 'australia': 659, 'family': 660, 'ejercicio': 661, '70s': 662, 'grandfather': 663, 'vibes': 664, '100': 665, 'wanna': 666, 'trick': 667, 'rage': 668, 'pure': 669, 'ak': 670, '1972': 671, 'gwynedd': 672, 'guy': 673, 'favorite': 674, 'snowfall': 675, 'northern': 676, 'mother': 677, '18': 678, 'somalia': 679, 'story': 680, 'corrina': 681, 'x': 682, 'crew': 683, 'colorado': 684, 'string': 685, 'foreign': 686, 'ms': 687, 'fins': 688, 'again': 689, 'entitled': 690, 'boris': 691, 'uruguay': 692, '213': 693, 'airbnb': 694, 'hillary': 695, \"clinton's\": 696, \"women's\": 697, 'gray': 698, '80s': 699, 'lunch': 700, 'avispa': 701, 'salsa': 702, 'montenegro': 703, 'texas': 704, 'nigeria': 705, '06': 706, 'rae': 707, '48': 708, 'hurricane': 709, 'norfolk': 710, 'eighteenth': 711, 'chris': 712, 'worms': 713, 'running': 714, 'alabama': 715, 'pizzeria': 716, 'adventure': 717, 'kingdom': 718, 'ray': 719, 'throwback': 720, 'holly': 721, 'white': 722, 'case': 723, 'end': 724, 'christopher': 725, '2003': 726, 'crisis': 727, 'heaven': 728, 'neon': 729, 'malawi': 730, 'silence': 731, 'november': 732, 'fourth': 733, 'malaysia': 734, 'district': 735, 'ian': 736, 'anderson': 737, 'beach': 738, \"girls'\": 739, 'estonia': 740, 'enough': 741, 'vatican': 742, 'ties': 743, 'shweta': 744, 'antlers': 745, 'speakeasy': 746, 'arkansas': 747, 'parking': 748, 'zealand': 749, 'morning': 750, 'british': 751, 'yard': 752, 'daisy': 753, 'provincial': 754, 'haiti': 755, 'mystery': 756, 'libre': 757, 'fire': 758, 'watch': 759, 'hubbardston': 760, '1994': 761, 'german': 762, 'news': 763, 'power': 764, 'shack': 765, '16th': 766, 'gustar': 767, 'send': 768, \"ann's\": 769, 'lists': 770, 'sir': 771, 'winston': 772, 'ono': 773, 'lennon': 774, 'her': 775, 'infinite': 776, 'william': 777, 'benin': 778, 'thirty': 779, 'johnny': 780, 'tom': 781, 'his': 782, 'regal': 783, 'nellie': 784, 'fried': 785, 'snowstorm': 786, 'tiger': 787, 'tn': 788, 'anti': 789, 'intellectualism': 790, 'jerry': 791, 'dixon': 792, 'voice': 793, 'waltz': 794, 'giant': 795, 'tesh': 796, 'friendesemana': 797, 'dan': 798, 'cool': 799, 'fabulosos': 800, 'cadillacs': 801, 'sweden': 802, 'westmoreland': 803, 'being': 804, 'preferably': 805, 'loves': 806, 'penn': 807, 'las': 808, 'del': 809, 'rosanna': 810, 'into': 811, 'washington': 812, 'montana': 813, 'twilight': 814, 'california': 815, 'trail': 816, 'gambia': 817, 'nineteenth': 818, '2040': 819, 'nv': 820, 'killer': 821, 'follow': 822, '08': 823, 'have': 824, 'available': 825, 'closed': 826, 'justice': 827, 'eagle': 828, 'outlaw': 829, 'brian': 830, 'laundry': 831, 'rough': 832, 'sylvia': 833, 'plath': 834, 'fight': 835, 'acústico': 836, 'bbq': 837, 'isle': 838, 'burrito': 839, 'th': 840, 'third': 841, 'reservations': 842, 'stani': 843, 'monument': 844, '2010': 845, 'nineteen': 846, 'nh': 847, 'grill': 848, 'secondary': 849, 'residence': 850, 'hardcore': 851, 'sd': 852, 'maryland': 853, 'bistro': 854, 'brazil': 855, 'hong': 856, 'kong': 857, 'lone': 858, '2027': 859, 'plitt': 860, 'currently': 861, 'fraser': 862, 'mansion': 863, 'serbia': 864, 'cafeteria': 865, 'saturday': 866, 'gu': 867, 'ky': 868, 'gates': 869, 'art': 870, 'sophisticated': 871, 'ga': 872, 'landmark': 873, 'virginia': 874, 'wirth': 875, 'jean': 876, 'gost': 877, 'eighth': 878, 'ok': 879, '23': 880, 'seventeen': 881, 'sister': 882, 'walk': 883, 'frank': 884, '42': 885, 'smoking': 886, 'room': 887, 'pa': 888, '2007': 889, 'underground': 890, '1989': 891, 'got': 892, 'tonight': 893, 'century': 894, 'conservation': 895, 'cistern': 896, 'mjr': 897, 'land': 898, 'garden': 899, 'other': 900, 'amir': 901, 'joe': 902, \"baker's\": 903, 'keyboard': 904, 'lounge': 905, 'clare': 906, 'yvonne': 907, 'releases': 908, 'epic': 909, 'dec': 910, 'anthony': 911, 'wallis': 912, 'futuna': 913, 'tisha': 914, 'liberty': 915, 'free': 916, 'university': 917, 'calm': 918, 'interesting': 919, 'macedonia': 920, 'rainfall': 921, 'burke': 922, 'melva': 923, 'choice': 924, 'cloudy': 925, 'aftercluv': 926, 'faces': 927, 'macaroni': 928, 'cheese': 929, '1983': 930, 'whether': 931, 'virgin': 932, 'silent': 933, 'along': 934, 'without': 935, 'pump': 936, 'churrascaria': 937, '1973': 938, 'timings': 939, 'massachusetts': 940, 'drop': 941, 'crown': 942, 'edition': 943, 'jethro': 944, 'burns': 945, 'soundscapes': 946, 'iheart': 947, 'dinosaurs': 948, 'que': 949, 'suena': 950, 'coming': 951, 'polygon': 952, 'fresh': 953, 'electronic': 954, 'roi': 955, 'petit': 956, 'manan': 957, 'reading': 958, 'heavy': 959, 'still': 960, 'afterwork': 961, 'laura': 962, 'sold': 963, 'moon': 964, 'god': 965, 'supper': 966, 'america': 967, 'fall': 968, 'down': 969, 'wizard': 970, 'magic': 971, \"90's\": 972, 'flower': 973, 'racine': 974, 'gibraltar': 975, 'tin': 976, 'toy': 977, 'vi': 978, 'brunei': 979, 'alamo': 980, 'drafthouse': 981, 'melody': 982, 'outdoor': 983, 'mauritania': 984, 'alexander': 985, 'taverna': 986, 'id': 987, 'estes': 988, 'beyond': 989, 'adventures': 990, 'teens': 991, 'fox': 992, 'beaver': 993, 'jesse': 994, 'sunset': 995, 'brasileiro': 996, 'marcus': 997, 'run': 998, 'say': 999, 'lady': 1000, 'colour': 1001, '17': 1002, 'rajasthani': 1003, 'youth': 1004, 'dunedin': 1005, 'eye': 1006, 'bonnie': 1007, 'legend': 1008, 'brilliant': 1009, 'tommy': 1010, 'sixties': 1011, 'design': 1012, 'uganda': 1013, 'statue': 1014, 'recent': 1015, 'deserves': 1016, 'tajikistan': 1017, 'diamond': 1018, 'brunswick': 1019, 'lakes': 1020, 'canada': 1021, 'nieces': 1022, 'key': 1023, 'woods': 1024, 'finland': 1025, 'edge': 1026, 'noise': 1027, 'heston': 1028, 'blumenthal': 1029, 'hat': 1030, 'piano': 1031, 'use': 1032, 'ken': 1033, 'collective': 1034, 'il': 1035, 'bouchon': 1036, 'mars': 1037, 'prairie': 1038, 'instrumental': 1039, 'canyon': 1040, 'football': 1041, 'caribbean': 1042, 'author': 1043, 'colleen': 1044, 'zambia': 1045, 'tree': 1046, 'jam': 1047, 'economic': 1048, 'lucia': 1049, 'amusements': 1050, 'universe': 1051, 'blood': 1052, 'fleetwood': 1053, 'con': 1054, 'making': 1055, 'program': 1056, 'mongolia': 1057, 'dying': 1058, 'rap': 1059, 'daily': 1060, 'connecticut': 1061, 'para': 1062, 'oregon': 1063, '2039': 1064, '1974': 1065, 'study': 1066, 'bleeps': 1067, 'bloops': 1068, 'armstrong': 1069, 'turkmenistan': 1070, 'fifteen': 1071, '04': 1072, 'jersey': 1073, 'pastelaria': 1074, 'indonesian': 1075, 'poland': 1076, 'encyclopedia': 1077, '19': 1078, 'lebanon': 1079, 'circle': 1080, 'modern': 1081, 'nationalpark': 1082, 'iowa': 1083, 'across': 1084, 'line': 1085, 'mendoza': 1086, 'disney': 1087, 'gear': 1088, 'metallica': 1089, 'addition': 1090, 'july': 1091, 'selections': 1092, 'arista': 1093, 'peter': 1094, 'berville': 1095, 'job': 1096, 'corn': 1097, 'connection': 1098, 'manuel': 1099, 'homem': 1100, 'christo': 1101, 'monk': 1102, 'mathis': 1103, 'mootz': 1104, 'windmill': 1105, 'mariana': 1106, 'inoj': 1107, 'law': 1108, 'layne': 1109, 'whore': 1110, 'device': 1111, 'sad': 1112, 'blinis': 1113, 'palestine': 1114, 'fatty': 1115, 'haskell': 1116, 'deaf': 1117, 'ladue': 1118, 'mouse': 1119, 'divided': 1120, 'puppet': 1121, \"2000's\": 1122, 'invasion': 1123, 'knopfler': 1124, 'bystrzyca': 1125, 'landscape': 1126, 'whole': 1127, 'cristy': 1128, 'lane': 1129, 'set': 1130, 'balkan': 1131, 'rhapsodies': 1132, '78': 1133, 'measures': 1134, 'forever': 1135, 'lightspeed': 1136, 'champion': 1137, \"it's\": 1138, 'goodbye': 1139, 'ice': 1140, 'cream': 1141, 'maki': 1142, 'ohguro': 1143, 'different': 1144, 'slanguages': 1145, 'fred': 1146, 'labour': 1147, 'trina': 1148, \"latoya's\": 1149, 'infantry': 1150, 'sealed': 1151, 'mel': 1152, 'draisey': 1153, 'tomy': 1154, 'boreas': 1155, 'medieval': 1156, 'access': 1157, 'bernhard': 1158, 'fleischmann': 1159, 'grip': 1160, 'gambier': 1161, 'lemonheads': 1162, 'june': 1163, 'mind': 1164, 'funked': 1165, 'notebook': 1166, 'trigorin': 1167, 'alissa': 1168, 'cornelia': 1169, 'williams': 1170, 'katrina': 1171, 'maidens': 1172, 'concentration': 1173, 'entire': 1174, 'pray': 1175, 'turnt': 1176, 'v': 1177, 'prakash': 1178, 'kumar': 1179, 'javanese': 1180, 'raining': 1181, 'niney': 1182, 'observer': 1183, 'neshanic': 1184, 'station': 1185, 'sot': 1186, 'fowlkes': 1187, 'noel': 1188, 'linnane': 1189, 'tunisia': 1190, 'nelda': 1191, '01': 1192, '55': 1193, 'humarock': 1194, 'bloom': 1195, 'remix': 1196, 'palying': 1197, 'blonde': 1198, 'peking': 1199, 'angham': 1200, 'alejandro': 1201, 'fernández': 1202, 'restless': 1203, 'natives': 1204, 'african': 1205, 'holocaust': 1206, '2025': 1207, 'frantz': 1208, 'hall': 1209, 'crimson': 1210, 'climax': 1211, 'carlock': 1212, '9th': 1213, 'honduras': 1214, 'immortals': 1215, 'fakhar': 1216, 'alam': 1217, 'kou': 1218, 'shibasaki': 1219, 'korpiklaani': 1220, 'nóta': 1221, 'remains': 1222, 'vananda': 1223, 'alaska': 1224, 'nameless': 1225, 'ticket': 1226, 'kennedy': 1227, 'golightly': 1228, 'rear': 1229, 'mirror': 1230, 'lifetracks': 1231, 'motivation': 1232, 'obama': 1233, 'syndrome': 1234, 'loneliness': 1235, 'runner': 1236, 'vanishing': 1237, 'bees': 1238, 'grime': 1239, 'instrumentals': 1240, 'central': 1241, 'airport': 1242, 'juga': 1243, '1988': 1244, 'harry': 1245, 'burleigh': 1246, 'strange': 1247, 'civilization': 1248, 'prayer': 1249, 'prvi': 1250, 'poljubac': 1251, 'hiroki': 1252, 'uchi': 1253, 'body': 1254, 'creed': 1255, 'biguine': 1256, 'fantasy': 1257, 'vii': 1258, '1956': 1259, 'jedi': 1260, 'underworld': 1261, 'sandy': 1262, 'santana': 1263, 'performs': 1264, 'shooby': 1265, \"taylor's\": 1266, 'tearing': 1267, 'charts': 1268, 'roger': 1269, 'troutman': 1270, 'willy': 1271, 'poor': 1272, 'boys': 1273, 'facedown': 1274, 'maximum': 1275, 'bible': 1276, 'wifi': 1277, \"gota's\": 1278, 'villotta': 1279, 'metalsucks': 1280, 'burritos': 1281, 'undressed': 1282, 'icon': 1283, 'favorites': 1284, 'rolled': 1285, 'merkel': 1286, 'tawakoni': 1287, '2031': 1288, 'barbarossa': 1289, 'irv': 1290, 'gotti': 1291, 'presents': 1292, 'murderers': 1293, 'atascadero': 1294, 'hunters': 1295, 'dusk': 1296, 'ashita': 1297, 'wenn': 1298, 'lucy': 1299, 'springt': 1300, 'pleasant': 1301, 'banker': 1302, 'dep': 1303, 'mckeesport': 1304, 'hole': 1305, 'cop': 1306, 'blissfield': 1307, 'namibia': 1308, 'ribera': 1309, 'sint': 1310, 'maarten': 1311, 'tamra': 1312, 'desiree': 1313, 'lesley': 1314, 'packed': 1315, 'rafters': 1316, \"'n'\": 1317, 'swindle': 1318, 'groves': 1319, 'academe': 1320, 'lived': 1321, 'samuel': 1322, 'barber': 1323, 'fei': 1324, 'yu': 1325, 'ching': 1326, 'kate': 1327, 'bush': 1328, 'fults': 1329, 'stacey': 1330, 'windswept': 1331, 'bind': 1332, 'pandit': 1333, 'beardyman': 1334, 'nesco': 1335, 'train': 1336, 'region': 1337, 'wolves': 1338, 'dogs': 1339, 'true': 1340, 'larry': 1341, 'mullen': 1342, 'jr': 1343, 'political': 1344, 'punks': 1345, 'tomohisa': 1346, 'yamashita': 1347, 'cardio': 1348, 'bronislau': 1349, 'kaper': 1350, 'paulinho': 1351, 'viola': 1352, 'rainwater': 1353, 'lp': 1354, 'miracle': 1355, 'wacken': 1356, 'carnage': 1357, 'diva': 1358, 'salt': 1359, 'holy': 1360, 'wit': 1361, 'sue': 1362, 'madeline': 1363, 'cotton': 1364, 'skull': 1365, 'tropical': 1366, 'lansford': 1367, 'dermatology': 1368, 'restaurantin': 1369, 'perrytown': 1370, 'missouri': 1371, 'candice': 1372, 'jeannie': 1373, 'nichole': 1374, 'dry': 1375, 'type': 1376, 'navy': 1377, 'uplands': 1378, 'munchique': 1379, 'stories': 1380, 'english': 1381, 'scottish': 1382, 'ballads': 1383, 'picasso': 1384, '2010s': 1385, 'smash': 1386, 'entry': 1387, 'mon': 1388, 'beau': 1389, 'sapin': 1390, \"lela's\": 1391, 'wiktor': 1392, 'coj': 1393, 'teeny': 1394, 'rollins': 1395, 'rattus': 1396, 'roundhouse': 1397, 'patrick': 1398, \"lachman's\": 1399, 'curious': 1400, 'yasuhiko': 1401, 'fukuda': 1402, 'abatte': 1403, 'barihun': 1404, 'cecil': 1405, 'womack': 1406, 'female': 1407, 'voices': 1408, 'activeperl': 1409, 'band': 1410, 'honest': 1411, 'janet': 1412, 'paschal': 1413, 'engadget': 1414, 'sanborn': 1415, 'sueños': 1416, 'atmosphere': 1417, 'arch': 1418, 'might': 1419, 'myth': 1420, 'dolores': 1421, 'leona': 1422, 'clark': 1423, 'indonesia': 1424, 'lesten': 1425, 'bone': 1426, 'burnett': 1427, 'hungary': 1428, 'loose': 1429, 'chenier': 1430, 'kashegelok': 1431, 'watchers': 1432, 'farallon': 1433, 'wade': 1434, 'macneil': 1435, '1969': 1436, 'sushi': 1437, 'brucetown': 1438, 'switzer': 1439, '29': 1440, 'athens': 1441, 'ecossaise': 1442, 'glenn': 1443, 'gould': 1444, 'prophecy': 1445, 'rats': 1446, 'terror': 1447, 'paycheck': 1448, 'urban': 1449, 'swift': 1450, 'motor': 1451, 'cycle': 1452, 'away': 1453, 'monahan': 1454, 'emily': 1455, 'dickinson': 1456, 'yachats': 1457, 'scofflaw': 1458, 'glorious': 1459, 'die': 1460, \"mckay's\": 1461, 'vampire': 1462, 'bloodlust': 1463, 'turkish': 1464, 'isabel': 1465, 'bechtelsville': 1466, 'row': 1467, 'plankton': 1468, 'alternative': 1469, 'ashley': 1470, 'cafagna': 1471, 'tesoro': 1472, 'bonaparte': 1473, 'tigra': 1474, 'monkey': 1475, 'bulgaria': 1476, 'manhunt': 1477, 'fog': 1478, 'cracking': 1479, 'contraptions': 1480, 'roddy': 1481, 'woomble': 1482, 'aragon': 1483, 'ballroom': 1484, 'trapeo': 1485, 'donny': 1486, \"tourette's\": 1487, 'push': 1488, 'button': 1489, 'sky': 1490, \"mai's\": 1491, 'infantil': 1492, 'voyage': 1493, 'arcturus': 1494, 'clarenceville': 1495, 'rapids': 1496, 'roadhouse': 1497, 'ring': 1498, 'silver': 1499, 'apples': 1500, 'teh': 1501, 'estrés': 1502, 'dingo': 1503, 'municipal': 1504, 'mitcham': 1505, 'deacon': 1506, 'birth': 1507, 'spasmolytic': 1508, 'currant': 1509, 'wilderness': 1510, 'shadow': 1511, 'helders': 1512, 'showstopper': 1513, 'mary': 1514, 'jane': 1515, 'nebraska': 1516, '1951': 1517, 'letty': 1518, 'untouched': 1519, 'human': 1520, 'hands': 1521, 'bayou': 1522, 'coast': 1523, 'bernd': 1524, \"begemann's\": 1525, 'pura': 1526, 'vida': 1527, 'severed': 1528, 'liszt': 1529, 'asim': 1530, 'brkan': 1531, 'channel': 1532, 'calder': 1533, 'kingsman': 1534, 'anna': 1535, \"vissi's\": 1536, 'bruno': 1537, 'pelletier': 1538, 'shades': 1539, 'hu': 1540, 'canciones': 1541, 'más': 1542, 'lindas': 1543, 'mundo': 1544, 'romántica': 1545, \"lynette's\": 1546, 'julia': 1547, 'lyn': 1548, 'eddi': 1549, 'reader': 1550, 'over': 1551, 'rainbow': 1552, 'sometimes': 1553, 'passing': 1554, 'bird': 1555, '35': 1556, '1970': 1557, 'warriors': 1558, 'bettye': 1559, 'jewish': 1560, 'community': 1561, 'gone': 1562, 'carrickfergus': 1563, 'gahō': 1564, 'nathaniel': 1565, 'shilkret': 1566, 'pharmacy': 1567, 'pharmacology': 1568, 'bangers': 1569, 'phuong': 1570, 'thanh': 1571, 'pattie': 1572, 'nu': 1573, 'always': 1574, 'return': 1575, 'dawn': 1576, 'gregory': 1577, 'douglass': 1578, 'joseph': 1579, 'meyer': 1580, 'mad': 1581, 'festival': 1582, \"cinema's\": 1583, 'rings': 1584, 'steel': 1585, 'fear': 1586, 'loathing': 1587, 'campaign': 1588, \"'72\": 1589, 'kerasotes': 1590, 'astronomy': 1591, 'domine': 1592, 'intimate': 1593, 'queen': 1594, 'fonzworth': 1595, 'bentley': 1596, 'proudly': 1597, 'marches': 1598, 'mythbusters': 1599, \"carl's\": 1600, 'corner': 1601, 'musical': 1602, 'glen': 1603, 'arm': 1604, 'esmeralda': 1605, 'andrea': 1606, 'filmography': 1607, 'tomoyasu': 1608, 'hotei': 1609, 'concentración': 1610, 'amusement': 1611, 'parks': 1612, 'paulette': 1613, 'parker': 1614, \"kris's\": 1615, 'campus': 1616, 'bowl': 1617, '41': 1618, 'unreachable': 1619, 'wine': 1620, 'dine': 1621, 'daughters': 1622, 'octagon': 1623, 'christchurch': 1624, 'too': 1625, 'much': 1626, 'loc': 1627, 'naked': 1628, 'bullet': 1629, '102': 1630, 'europe': 1631, 'portrait': 1632, 'ernst': 1633, 'jünger': 1634, 'hawaii': 1635, 'grey': 1636, '2034': 1637, 'truths': 1638, 'branded': 1639, 'wholehearted': 1640, 'critical': 1641, 'welch': 1642, 'spring': 1643, 'mohan': 1644, 'trending': 1645, 'ready': 1646, '1961': 1647, 'chad': 1648, 'hugo': 1649, 'kendrick': 1650, 'lamar': 1651, 'conrad': 1652, 'odeon': 1653, 'jyotsna': 1654, 'radhakrishnan': 1655, 'lets': 1656, 'frisbee': 1657, 'hippie': 1658, 'preacher': 1659, 'netherlands': 1660, 'antilles': 1661, 'kentuckians': 1662, 'crofton': 1663, 'ukraine': 1664, 'atheist': 1665, 'manifesto': 1666, 'christianity': 1667, 'france': 1668, 'dani': 1669, 'filth': 1670, 'momento': 1671, 'nights': 1672, 'unholy': 1673, 'confessions': 1674, 'knew': 1675, 'ligurian': 1676, 'belgium': 1677, 'camu': 1678, 'tao': 1679, 'sea': 1680, 'recreation': 1681, 'gotham': 1682, 'racing': 1683, 'places': 1684, \"katy's\": 1685, 'hostel': 1686, 'emil': 1687, 'cou': 1688, 'single': 1689, 'value': 1690, 'dreamer': 1691, 'windows': 1692, 'afghan': 1693, 'ibar': 1694, 'vodo': 1695, 'agate': 1696, 'fossil': 1697, 'beds': 1698, 'jocelyn': 1699, 'birthday': 1700, 'bbc': 1701, 'abbath': 1702, 'tammy': 1703, 'rex': 1704, 'harder': 1705, 'molise': 1706, 'theressa': 1707, 'sos': 1708, 'millions': 1709, 'savoy': 1710, '6th': 1711, 'belle': 1712, 'vernon': 1713, 'pasta': 1714, 'salad': 1715, 'came': 1716, 'rob': 1717, 'alamosa': 1718, 'navajo': 1719, 'fri': 1720, 'luke': 1721, 'kaitlin': 1722, 'testaroli': 1723, '25': 1724, '34': 1725, 'ot': 1726, 'maumee': 1727, 'runs': 1728, 'sword': 1729, 'drawn': 1730, 'upon': 1731, 'midnights': 1732, 'clear': 1733, 'stephen': 1734, 'stills': 1735, 'verge': 1736, 'punch': 1737, 'space': 1738, 'aliens': 1739, 'montgomery': 1740, 'discography': 1741, 'ajar': 1742, 'maria': 1743, 'severa': 1744, 'onofriana': 1745, 'acreative': 1746, 'bohemia': 1747, 'engine': 1748, 'driver': 1749, 'ri': 1750, 'award': 1751, 'warren': 1752, 'saffron': 1753, 'franky': 1754, 'gee': 1755, 'rondine': 1756, 'nido': 1757, 'tonga': 1758, 'accounting': 1759, 'lateness': 1760, 'anguilla': 1761, 'wispolitics': 1762, 'com': 1763, 'schooltool': 1764, 'hanover': 1765, 'lafitte': 1766, 'historical': 1767, 'form': 1768, 'daughter': 1769, 'returns': 1770, 'floating': 1771, 'cavalry': 1772, 'call': 1773, 'chapter': 1774, 'farçous': 1775, 'owen': 1776, 'biddle': 1777, 'tues': 1778, 'ree': 1779, 'carissa': 1780, 'lynn': 1781, 'mikku': 1782, 'brontës': 1783, 'howling': 1784, 'werewolf': 1785, 'riddick': 1786, 'consolidated': 1787, 'steps': 1788, 'laurelhurst': 1789, 'luella': 1790, 'carter': 1791, 'iero': 1792, 'dicey': 1793, 'business': 1794, 'burlington': 1795, 'illinois': 1796, 'yankee': 1797, 'played': 1798, \"punk's\": 1799, 'flag': 1800, 'cuzzart': 1801, 'dom': 1802, 'pachino': 1803, 'danvers': 1804, 'doom': 1805, 'brigade': 1806, 'church': 1807, 'press': 1808, 'musiri': 1809, 'subramania': 1810, \"iyer's\": 1811, 'fi': 1812, 'steely': 1813, 'then': 1814, 'darkness': 1815, 'alive': 1816, 'pintura': 1817, 'brothers': 1818, 'dear': 1819, 'gentle': 1820, 'he': 1821, 'djent': 1822, 'funtime': 1823, 'postelle': 1824, '31': 1825, 'stairway': 1826, 'mymy': 1827, 'britpop': 1828, 'etc': 1829, 'giancarlo': 1830, 'erra': 1831, 'pocomoke': 1832, 'orienta': 1833, 'booking': 1834, 'sonoy': 1835, 'montague': 1836, 'swans': 1837, 'voce': 1838, 'dubstep': 1839, 'dangles': 1840, 'dirty': 1841, 'medical': 1842, 'india': 1843, 'think': 1844, 'twitches': 1845, 'michel': 1846, 'strogoff': 1847, 'fighting': 1848, 'buffalo': 1849, 'wyoming': 1850, 'morley': 1851, 'nelson': 1852, 'snake': 1853, 'birds': 1854, 'prey': 1855, 'northfield': 1856, 'chet': 1857, 'baker': 1858, 'strings': 1859, 'loners': 1860, 'unsettled': 1861, 'training': 1862, 'thirteenth': 1863, \"where's\": 1864, 'trains': 1865, 'planes': 1866, 'wintley': 1867, 'phipps': 1868, 'general': 1869, 'sinners': 1870, 'thanatos': 1871, 'klezmer': 1872, 'fiddle': 1873, 'moped': 1874, 'chrome': 1875, 'plated': 1876, 'handlebars': 1877, 'duetos': 1878, '2150': 1879, 'brat': 1880, 'soak': 1881, 'peoples': 1882, 'gimme': 1883, 'sometime': 1884, 'khan': 1885, 'proby': 1886, 'ludden': 1887, 'jurij': 1888, 'szewczuk': 1889, \"tisha's\": 1890, 'revived': 1891, 'viajes': 1892, 'guyana': 1893, 'verdi': 1894, 'baywood': 1895, 'playlists': 1896, 'picks': 1897, 'heather': 1898, 'burning': 1899, 'eighty': 1900, 'rumba': 1901, 'africana': 1902, 'practice': 1903, 'deceive': 1904, 'reminderville': 1905, 'literacy': 1906, 'mazur': 1907, '11th': 1908, 'murdoc': 1909, 'nicalls': 1910, 'jency': 1911, 'permanent': 1912, 'signal': 1913, 'dora': 1914, \"b'av\": 1915, 'main': 1916, 'deli': 1917, 'steak': 1918, 'hendley': 1919, 'setting': 1920, 'bears': 1921, 'gf': 1922, \"sondra's\": 1923, 'sacred': 1924, 'fount': 1925, 'piece': 1926, '1991': 1927, 'cia': 1928, 'cult': 1929, 'intelligence': 1930, 'pipe': 1931, 'venezuela': 1932, 'muzyka': 1933, 'eros': 1934, 'nc': 1935, 'blasting': 1936, 'potée': 1937, 'gate': 1938, 'worlds': 1939, 'devin': 1940, 'dude': 1941, 'unleashed': 1942, 'croquembouche': 1943, 'crucible': 1944, 'wicked': 1945, 'do': 1946, 'glinda': 1947, 'oz': 1948, 'ship': 1949, 'lollipop': 1950, 'hamilton': 1951, 'extreme': 1952, 'smit': 1953, 'plalist': 1954, 'visjoner': 1955, 'creators': 1956, 'corinne': 1957, 'guernsey': 1958, 'greenbrier': 1959, 'egypt': 1960, 'dipson': 1961, 'crayon': 1962, 'shin': 1963, 'chan': 1964, 'warring': 1965, 'double': 1966, 'persephone': 1967, 'hogs': 1968, 'russian': 1969, 'independent': 1970, 'monday': 1971, 'tansen': 1972, 'clem': 1973, 'crab': 1974, 'cooker': 1975, 'angelina': 1976, 'cooper': 1977, 'gwen': 1978, 'pagans': 1979, 'overload': 1980, 'mihalis': 1981, 'hatzigiannis': 1982, 'iris': 1983, 'dement': 1984, 'selena': 1985, 'koszta': 1986, 'ca': 1987, 'ti': 1988, 'yemen': 1989, '241': 1990, 'korea': 1991, 'morningside': 1992, 'girlfriend': 1993, '32': 1994, 'tyronza': 1995, 'jon': 1996, 'brooks': 1997, 'testament': 1998, 'gideon': 1999, 'mack': 2000, 'casa': 2001, 'es': 2002, 'tuya': 2003, 'oficial': 2004, 'iceland': 2005, 'coma': 2006, 'cooperdale': 2007, 'linzi': 2008, 'stoppard': 2009, 'growing': 2010, 'artichokes': 2011, 'mimongo': 2012, 'elko': 2013, '07': 2014, '51': 2015, 'lomas': 2016, 'enigma': 2017, 'yoko': 2018, 'kanno': 2019, 'gonna': 2020, 'ya': 2021, 'curtis': 2022, 'deer': 2023, 'hornitos': 2024, 'zezé': 2025, 'di': 2026, 'camargo': 2027, 'luciano': 2028, 'months': 2029, 'sayuri': 2030, 'iwata': 2031, 'complete': 2032, 'chaos': 2033, 'shadowchaser': 2034, 'willows': 2035, 'asia': 2036, 'image': 2037, 'collection': 2038, 'scott': 2039, 'depot': 2040, 'cracked': 2041, 'nuts': 2042, 'spartacus': 2043, 'gods': 2044, 'arena': 2045, 'hectic': 2046, \"chater's\": 2047, 'annual': 2048, 'cropsey': 2049, '5th': 2050, 'thomen': 2051, 'stauch': 2052, 'addicts': 2053, 'meddle': 2054, 'decade': 2055, 'stereophonics': 2056, 'travis': 2057, 'countess': 2058, 'chin': 2059, 'buttercup': 2060, 'pollen': 2061, 'social': 2062, 'dartmouth': 2063, 'parents': 2064, 'tourist': 2065, 'slovakia': 2066, 'goldie': 2067, \"hill's\": 2068, 'formula': 2069, 'championship': 2070, 'anak': 2071, 'marylou': 2072, \"mum's\": 2073, 'paper': 2074, 'maimi': 2075, \"yajima's\": 2076, 'operación': 2077, 'bikini': 2078, 'julian': 2079, \"velard's\": 2080, 'sam': 2081, 'moran': 2082, 'tgif': 2083, 'plucker': 2084, 'herbie': 2085, 'mann': 2086, 'adrenaline': 2087, 'kenneth': 2088, 'bass': 2089, 'recorded': 2090, 'vishal': 2091, 'shekhar': 2092, 'edgemont': 2093, 'geographic': 2094, 'frog': 2095, 'prince': 2096, 'continued': 2097, 'wax': 2098, 'fun': 2099, 'ljubim': 2100, 'pesmama': 2101, 'gold': 2102, 'stacy': 2103, 'ferguson': 2104, 'conflict': 2105, 'visions': 2106, 'roscoe': 2107, 'rwanda': 2108, 'slaughter': 2109, 'kurt': 2110, 'cobain': 2111, 'korean': 2112, 'osts': 2113, 'poison': 2114, 'ivy': 2115, 'seduction': 2116, 'ruud': 2117, 'jolie': 2118, 'peru': 2119, 'tourniquet': 2120, 'junes': 2121, 'scratch': 2122, 'monts': 2123, 'et': 2124, 'merveilles': 2125, 'idols': 2126, 'clay': 2127, 'thrilling': 2128, 'cities': 2129, 'boyfriend': 2130, 'est': 2131, 'mort': 2132, 'vive': 2133, 'waterscapes': 2134, 'honor': 2135, 'under': 2136, 'sign': 2137, 'saturn': 2138, 'trey': 2139, 'gunn': 2140, \"n'\": 2141, 'chér': 2142, 'sp': 2143, 'balasubrahmanyam': 2144, 'rockabilly': 2145, 'mania': 2146, 'candlelight': 2147, 'munich': 2148, 'pembine': 2149, \"gf's\": 2150, 'middle': 2151, 'eastern': 2152, 'moishes': 2153, 'lucky': 2154, 'merry': 2155, 'round': 2156, 'nichols': 2157, 'dr': 2158, 'lao': 2159, 'revolution': 2160, 'patrician': 2161, 'junaluska': 2162, 'ringside': 2163, 'nevada': 2164, 'mnot': 2165, 'chalet': 2166, 'entre': 2167, 'andes': 2168, 'rowan': 2169, 'less': 2170, 'aaliyah': 2171, 'bad': 2172, 'dies': 2173, 'drear': 2174, 'armed': 2175, 'portraits': 2176, 'gun': 2177, 'owners': 2178, 'homes': 2179, 'manassa': 2180, 'merrill': 2181, 'jackman': 2182, 'pickwick': 2183, 'papers': 2184, 'armageddon': 2185, 'eternal': 2186, 'symphonies': 2187, 'slit': 2188, 'wrists': 2189, 'ayer': 2190, 'pearson': 2191, 'soda': 2192, 'works': 2193, 'cambodia': 2194, 'porter': 2195, 'powerhouses': 2196, 'valeri': 2197, 'leontjev': 2198, 'lamp': 2199, 'bishops': 2200, 'buttery': 2201, 'shrewsbury': 2202, 'infusions': 2203, 'solitude': 2204, 'prime': 2205, 'numbers': 2206, 'learning': 2207, 'perl': 2208, 'pincher': 2209, 'angry': 2210, 'waves': 2211, 'bristol': 2212, 'midday': 2213, 'camp': 2214, 'academy': 2215, '26th': 2216, 'rosewood': 2217, 'olexandr': 2218, 'ponomarjow': 2219, 'trance': 2220, 'visionary': 2221, 'candle': 2222, 'cried': 2223, 'glory': 2224, 'highest': 2225, 'intruders': 2226, 'nation': 2227, '1st': 2228, 'keeneland': 2229, 'arlene': 2230, 'stewart': 2231, 'laundromat': 2232, 'pamela': 2233, 'jintana': 2234, 'vic': 2235, 'damone': 2236, 'named': 2237, 'tuonela': 2238, 'grew': 2239, 'wafah': 2240, 'dufour': 2241, 'shiva': 2242, 'option': 2243, 'emperor': 2244, 'clothes': 2245, 'strumentale': 2246, 'scars': 2247, 'gasconade': 2248, 'teyana': 2249, 'taylor': 2250, 'yoshiaki': 2251, 'hoshi': 2252, 'starmen': 2253, 'villa': 2254, 'bethania': 2255, 'border': 2256, 'patrol': 2257, 'twist': 2258, 'shadows': 2259, 'marion': 2260, 'buena': 2261, 'vista': 2262, '2032': 2263, 'charleston': 2264, 'ethridge': 2265, 'justin': 2266, 'furstenfeld': 2267, 'liatochinski': 2268, 'hardy': 2269, 'crime': 2270, 'teddy': 2271, 'jigs': 2272, 'reels': 2273, 'reily': 2274, 'osage': 2275, 'pepe': 2276, 'marchena': 2277, 'mango': 2278, 'helene': 2279, 'alana': 2280, 'blueberry': 2281, 'kostarev': 2282, 'lit': 2283, 'purple': 2284, 'vigilantes': 2285, 'shoe': 2286, 'international': 2287, 'ohio': 2288, 'amen': 2289, 'working': 2290, 'cale': 2291, 'smelt': 2292, 'revival': 2293, 'lidia': 2294, 'latasha': 2295, 'diann': 2296, 'sukkot': 2297, 'ryō': 2298, 'yamazaki': 2299, 'idana': 2300, 'sleepy': 2301, '2002': 2302, 'pedro': 2303, 'noche': 2304, 'chicas': 2305, 'ron': 2306, 'sexsmith': 2307, 'ironbound': 2308, 'lonesome': 2309, 'buck': 2310, \"kristie's\": 2311, 'flat': 2312, 'agua': 2313, 'sal': 2314, 'florida': 2315, 'ariston': 2316, 'roslyn': 2317, 'harriett': 2318, 'lesterville': 2319, 'iconic': 2320, 'photographer': 2321, 'dennis': 2322, 'stock': 2323, 'kissing': 2324, 'hand': 2325, 'hut': 2326, 'noon': 2327, 'kris': 2328, 'aquino': 2329, 'pocket': 2330, 'grains': 2331, 'sand': 2332, 'oshin': 2333, 'svalbard': 2334, 'mayen': 2335, 'college': 2336, 'feist': 2337, 'mystical': 2338, 'billy': 2339, 'owens': 2340, 'aki': 2341, 'nawaz': 2342, 'abby': 2343, 'peacefulness': 2344, 'solid': 2345, 'asking': 2346, 'meltdown': 2347, 'destruction': 2348, 'muir': 2349, 'made': 2350, 'whitehorse': 2351, 'sibel': 2352, 'pink': 2353, 'tale': 2354, 'assassination': 2355, 'coward': 2356, 'ford': 2357, 'frye': 2358, 'iñao': 2359, 'integrated': 2360, 'management': 2361, 'natalie': 2362, 'maines': 2363, '1959': 2364, 'marco': 2365, \"snowman's\": 2366, 'karin': 2367, 'dreijer': 2368, 'andersson': 2369, 'escapada': 2370, 'jenners': 2371, 'kansas': 2372, 'karusellen': 2373, 'lafave': 2374, 'serge': 2375, 'thieves': 2376, 'rudolph': 2377, \"rockin'\": 2378, 'blackstratblues': 2379, 'bunny': 2380, 'winnabow': 2381, 'panda': 2382, 'bear': 2383, 'wastedagain': 2384, 'parc': 2385, 'nech': 2386, 'sar': 2387, 'charlotte': 2388, 'everywhere': 2389, 'thacker': 2390, 'sympathy': 2391, 'minor': 2392, 'outlying': 2393, 'matters': 2394, 'jt': 2395, 'bigga': 2396, 'figga': 2397, 'ultimate': 2398, 'solution': 2399, 'jappeloup': 2400, 'janes': 2401, 'christ': 2402, 'busby': 2403, '2024': 2404, 'square': 2405, 'yargo': 2406, 'echoes': 2407, 'faith': 2408, 'evans': 2409, 'oman': 2410, 'trapeze': 2411, 'lotus': 2412, 'andy': 2413, 'pomona': 2414, 'bobby': 2415, 'darin': 2416, 'skeptical': 2417, 'environmentalist': 2418, 'tolmatschowa': 2419, 'schwestern': 2420, 'comet': 2421, 'darker': 2422, 'venetian': 2423, 'hepler': 2424, 'platinum': 2425, 'ressha': 2426, 'sentai': 2427, 'toqger': 2428, 'commute': 2429, 'preaching': 2430, 'perverted': 2431, 'gie': 2432, 'se': 2433, 'potrei': 2434, 'avere': 2435, 'stand': 2436, 'proud': 2437, 'hornblower': 2438, 'indies': 2439, 'paris': 2440, 'evil': 2441, '09': 2442, '38': 2443, 'behind': 2444, 'doors': 2445, 'worst': 2446, 'yet': 2447, 'kastro': 2448, 'tis': 2449, 'orias': 2450, 'karl': 2451, 'denson': 2452, 'ar': 2453, 'trouble': 2454, 'paradise': 2455, '00': 2456, '45': 2457, 'okanogan': 2458, 'faber': 2459, 'verse': 2460, 'raymond': 2461, 'murray': 2462, 'schafer': 2463, 'francisco': 2464, 'brewing': 2465, 'ali': 2466, 'lohan': 2467, 'demon': 2468, 'background': 2469, 'precautions': 2470, 'fanatics': 2471, 'yom': 2472, \"ha'atzmaut\": 2473, 'recite': 2474, 'darkcore': 2475, 'mysteries': 2476, 'isaac': 2477, 'asimov': 2478, 'poomadhathe': 2479, 'pennu': 2480, 'yamataka': 2481, 'guiana': 2482, 'heidi': 2483, 'cara': 2484, 'saudi': 2485, 'arabia': 2486, 'elena': 2487, 'risteska': 2488, 'thirayum': 2489, 'theeravum': 2490, 'decent': 2491, 'timour': 2492, 'moutsouraev': 2493, 'experiment': 2494, 'dating': 2495, 'dark': 2496, 'glenarden': 2497, 'plastic': 2498, 'dream': 2499, 'danny': 2500, 'hutton': 2501, 'coersion': 2502, 'thursday': 2503, 'towers': 2504, 'wyatte': 2505, 'outram': 2506, 'musica': 2507, 'industriale': 2508, 'real': 2509, 'execution': 2510, 'wildhorn': 2511, 'sudan': 2512, 'source': 2513, 'lilia': 2514, 'ingrid': 2515, 'botanical': 2516, \"jules's\": 2517, 'monaco': 2518, '1971': 2519, 'bonham': 2520, 'elba': 2521, 'chance': 2522, 'pe': 2523, 'noodles': 2524, 'tragic': 2525, 'varenyky': 2526, 'croatia': 2527, 'gamer': 2528, 'comes': 2529, 'town': 2530, 'kb': 2531, 'twisted': 2532, 'crash': 2533, 'course': 2534, 'sexto': 2535, 'sentido': 2536, 'roulo': 2537, '2018': 2538, 'public': 2539, 'stenographer': 2540, 'ellisport': 2541, 'orchid': 2542, 'thief': 2543, 'tavern': 2544, 'sheikh': 2545, 'chilli': 2546, 'bobcat': 2547, 'bite': 2548, 'swjatoslaw': 2549, 'wakartschuk': 2550, 'apartment': 2551, 'read': 2552, 'local': 2553, 'government': 2554, 'jardin': 2555, 'heavenly': 2556, 'edward': 2557, 'leeson': 2558, 'harper': 2559, 'later': 2560, 'plays': 2561, 'sorry': 2562, \"rosanna's\": 2563, 'standing': 2564, \"bartholomew's\": 2565, 'cobble': 2566, 'encino': 2567, 'meatcake': 2568, 'limited': 2569, 'editions': 2570, '1990': 2571, '94': 2572, \"shirley's\": 2573, 'beatles': 2574, 'yesterday': 2575, 'highway': 2576, 'chronicles': 2577, 'unborn': 2578, 'but': 2579, 'forgotten': 2580, 'lovers': 2581, 'carson': 2582, 'peaceful': 2583, 'mankins': 2584, 'caledonia': 2585, 'bandas': 2586, 'sonoras': 2587, 'hillsview': 2588, 'ma': 2589, 'multiversity': 2590, 'noble': 2591, 'lovettsville': 2592, 'ju': 2593, 'beginning': 2594, 'agents': 2595, 'dj': 2596, 'khalil': 2597, 'chillout': 2598, 'records': 2599, '1958–1986': 2600, 'stairs': 2601, 'rounin': 2602, 'innocent': 2603, 'rakim': 2604, 'animal': 2605, 'deadly': 2606, 'beauty': 2607, 'nicholas': 2608, 'wisdom': 2609, 'journals': 2610, 'amber': 2611, 'bret': 2612, 'michaels': 2613, '2112': 2614, 'shipp': 2615, 'hippocratic': 2616, 'oath': 2617, 'tallgrass': 2618, '1976': 2619, 'bell': 2620, 'curve': 2621, 'russell': 2622, 'gardens': 2623, 'healthy': 2624, 'clásicos': 2625, 'directions': 2626, 'so': 2627, 'together': 2628, 'begin': 2629, 'newton': 2630, 'crossbones': 2631, 'harris': 2632, 'monetary': 2633, 'almota': 2634, 'spine': 2635, 'surfs': 2636, 'alone': 2637, 'funny': 2638, 'thing': 2639, 'mohammad': 2640, 'reza': 2641, 'lotfi': 2642, 'vintage': 2643, '74': 2644, \"mother's\": 2645, 'primavera': 2646, 'barcelona': 2647, 'mile': 2648, 'waterside': 2649, 'inn': 2650, 'denniz': 2651, 'nastya': 2652, 'kamenskih': 2653, 'garrix': 2654, 'tube': 2655, 'welcome': 2656, 'rileys': 2657, 'tales': 2658, 'remote': 2659, 'viewer': 2660, 'ethiopian': 2661, 'baaba': 2662, 'maal': 2663, 'oaklawn': 2664, 'son': 2665, 'warlock': 2666, 'exiled': 2667, 'while': 2668, 'were': 2669, 'waiting': 2670, 'sippie': 2671, 'wallace': 2672, 'guatemala': 2673, 'cassie': 2674, 'vincent': 2675, 'grenadines': 2676, 'moron': 2677, 'crying': 2678, 'change': 2679, 'misato': 2680, 'watanabe': 2681, 'def': 2682, '1979': 2683, 'luxembourg': 2684, 'moris': 2685, 'tepper': 2686, 'ov': 2687, 'hell': 2688, 'waiteville': 2689, '2004': 2690, 'harding': 2691, 'pictorial': 2692, 'weekly': 2693, 'season': 2694, 'capitalism': 2695, 'democracy': 2696, 'action': 2697, 'peterson': 2698, 'bonaire': 2699, '59': 2700, 'beats': 2701, 'dorothy': 2702, 'kayla': 2703, 'genevieve': 2704, 'argentinian': 2705, 'arepa': 2706, 'dulce': 2707, 'duchess': 2708, 'langeais': 2709, 'gareth': 2710, 'autumn': 2711, 'afghanistan': 2712, 'carácter': 2713, 'latino': 2714, 'onion': 2715, 'field': 2716, 'guilt': 2717, 'association': 2718, 'vol': 2719, 'rat': 2720, 'wash': 2721, 'masters': 2722, 'catasauqua': 2723, 'sixteen': 2724, 'sensation': 2725, 'morgan’s': 2726, '05': 2727, '54': 2728, 'stormy': 2729, 'angeles': 2730, 'peeper': 2731, 'needs': 2732, 'impulso': 2733, 'creativo': 2734, 'puglia': 2735, 'orgy': 2736, 'leather': 2737, 'girls': 2738, 'ufc': 2739, 'diary': 2740, 'mac': 2741, \"lakeisha's\": 2742, 'picchio': 2743, 'dal': 2744, 'pozzo': 2745, 'hunley': 2746, 'princess': 2747, 'lovelight': 2748, 'starts': 2749, 'shining': 2750, 'eyes': 2751, 'sense': 2752, 'marx': 2753, 'autry': 2754, 'inman': 2755, 'relaxing': 2756, 'mediodía': 2757, 'slade': 2758, 'pittsburgh': 2759, 'slim': 2760, 'mim': 2761, 'hampshire': 2762, 'jeremy': 2763, \"taggart's\": 2764, 'merrily': 2765, 'marko': 2766, 'desantis': 2767, 'nao': 2768, 'matsushita': 2769, 'marianne': 2770, 'faithfull': 2771, \"june's\": 2772, 'carsten': 2773, 'bohn': 2774, 'carries': 2775, 'cane': 2776, 'heroic': 2777, 'failures': 2778, 'lunacy': 2779, 'rome': 2780, '2001': 2781, 'maxwell': 2782, 'lesotho': 2783, 'joy': 2784, 'fever': 2785, 'fish': 2786, 'express': 2787, 'deaver': 2788, 'sc': 2789, 'josiah': 2790, 'henson': 2791, 'formerly': 2792, 'slave': 2793, 'inhabitant': 2794, 'narrated': 2795, 'himself': 2796, 'sat': 2797, 'ct': 2798, 'mercenary': 2799, 'clan': 2800, 'wars': 2801, 'emeralds': 2802, 'moore': 2803, 'rented': 2804, 'lips': 2805, 'electroclash': 2806, 'bslade': 2807, 'k': 2808, 'guru': 2809, 'olympic': 2810, 'champ': 2811, 'rosenbaum': 2812, 'ahead': 2813, 'blowfly': 2814, 'schubert': 2815, 'ad': 2816, 'hoc': 2817, 'jesus': 2818, 'alright': 2819, 'lift': 2820, 'slap': 2821, 'romantic': 2822, 'chimichanga': 2823, 'wood': 2824, 'kyrgyzstan': 2825, '1952': 2826, 'diamonds': 2827, 'maid': 2828, 'rite': 2829, 'sandwich': 2830, 'shop': 2831, 'antigua': 2832, 'barbuda': 2833, 'tooth': 2834, 'arif': 2835, 'roots': 2836, 'divertido': 2837, 'niños': 2838, 'ayaka': 2839, 'iida': 2840, \"herminia's\": 2841, 'tailwind': 2842, 'famous': 2843, 'gholam': 2844, 'hossein': 2845, 'banan': 2846, 'unionville': 2847, 'taco': 2848, 'ockerse': 2849, 'ilse': 2850, 'delange': 2851, 'broom': 2852, 'cowdenknowes': 2853, 'shawnna': 2854, 'latimers': 2855, 'siren': 2856, 'leticia': 2857, 'twila': 2858, 'edwards': 2859, 'glassy': 2860, 'junction': 2861, 'purposes': 2862, 'inheritors': 2863, 'tatico': 2864, 'henriquez': 2865, 'letters': 2866, 'porcupine': 2867, 'kacapi': 2868, 'suling': 2869, '7th': 2870, 'shockwave': 2871, '14th': 2872, '2021': 2873, 'port': 2874, 'weidman': 2875, 'winged': 2876, 'victory': 2877, 'pasture': 2878, 'raop': 2879, 'empire': 2880, 'future': 2881, 'past': 2882, 'rhode': 2883, 'toxic': 2884, 'waste': 2885, 'rio': 2886, 'grande': 2887, 'nature': 2888, 'reasons': 2889, 'hate': 2890, 'davis': 2891, 'willie': 2892, 'patsy': 2893, 'rogers': 2894, 'butcher': 2895, 'feast': 2896, 'linden': 2897, 'arizona': 2898, 'warning': 2899, 'george': 2900, 'nooks': 2901, 'electronow': 2902, 'ocean': 2903, 'delay': 2904, 'chariot': 2905, 'londonien': 2906, 'wandsworth': 2907, 'lee': 2908, 'jackson': 2909, 'hank': 2910, 'shermann': 2911, 'nuclear': 2912, 'blast': 2913, 'novelties': 2914, 'juan': 2915, 'capistrano': 2916, 'total': 2917, 'flashman': 2918, 'redskins': 2919, 'lots': 2920, 'success': 2921, 'forty': 2922, 'granbury': 2923, 'robotix': 2924, 'notable': 2925, '43': 2926, 'leven': 2927, 'thumps': 2928, 'gateway': 2929, 'foo': 2930, 'getting': 2931, '16': 2932, 'licensed': 2933, 'mellow': 2934, 'plaly': 2935, 'ladybug': 2936, 'transistor': 2937, 'loreena': 2938, 'mckennitt': 2939, 'balinese': 2940, 'ehi': 2941, 'prof': 2942, 'rise': 2943, 'poop': 2944, 'unmentionable': 2945, 'infrared': 2946, 'riding': 2947, 'hood': 2948, 'hridaynath': 2949, 'mangeshkar': 2950, 'education': 2951, 'nationaal': 2952, 'bạch': 2953, 'mã': 2954, 'netawaka': 2955, 'pambiche': 2956, 'keeling': 2957, 'flake': 2958, 'norma': 2959, 'dickens': 2960, 'lamentable': 2961, 'omaha': 2962, 'bigelow': 2963, 'impenetrable': 2964, 'loisaida': 2965, 'jungle': 2966, 'debby': 2967, 'soft': 2968, 'savoonga': 2969, 'painless': 2970, 'whom': 2971, 'concern': 2972, 'ottagathai': 2973, 'kattiko': 2974, 'utah': 2975, 'islanders': 2976, 'burgh': 2977, 'melancholia': 2978, 'char': 2979, 'colombia': 2980, 'kommeni': 2981, 'anasa': 2982, 'propuesta': 2983, 'alternativa': 2984, 'starship': 2985, 'troopers': 2986, 'administrative': 2987, 'behavior': 2988, 'les': 2989, 'lecter': 2990, 'smith': 2991, 'istanbul': 2992, 'turkey': 2993, 'amarillo': 2994, 'greece': 2995, 'lola': 2996, 'monroe': 2997, 'desert': 2998, \"girlfriend's\": 2999, 'ramble': 3000, 'halloween': 3001, 'matter': 3002, 'degrees': 3003, 'harkins': 3004, 'doesfun': 3005, '2shh': 3006, 'dudes': 3007, 'every': 3008, 'detour': 3009, 'ut': 3010, 'jenny': 3011, 'card': 3012, 'scribblings': 3013, 'kitts': 3014, 'nevis': 3015, 'sunshine': 3016, 'appeals': 3017, 'sugarcult': 3018, 'muffuletta': 3019, 'manos': 3020, 'hadzidakis': 3021, 'zenith': 3022, 'angle': 3023, 'hitler': 3024, 'dune': 3025, 'nicholaus': 3026, 'arson': 3027, 'edwyn': 3028, 'collins': 3029, 'canadian': 3030, 'cholera': 3031, 'ne': 3032, 'ascension': 3033, 'cle': 3034, 'elum': 3035, 'seafood': 3036, 'brazen': 3037, 'turtle': 3038, '25th': 3039, 'grandparents': 3040, 'helens': 3041, 'dome': 3042, 'cowra': 3043, 'breakout': 3044, 'seed': 3045, 'chucky': 3046, 'antisleep': 3047, 'volume': 3048, 'wall': 3049, 'allakaket': 3050, 'kaysville': 3051, 'playhouse': 3052, 'marilyn': 3053, 'como': 3054, 'un': 3055, 'tatuaje': 3056, 'whens': 3057, 'lives': 3058, 'rainy': 3059, 'greely': 3060, 'witt': 3061, 'sixth': 3062, 'wilkesboro': 3063, 'moyer': 3064, 'foreast': 3065, 'spain': 3066, 'glacier': 3067, \"alfreda's\": 3068, 'brick': 3069, 'erik': 3070, 'santos': 3071, 'xplorer': 3072, 'kuwait': 3073, 'small': 3074, 'screen': 3075, 'child': 3076, 'faysville': 3077, 'burgers': 3078, 'gor': 3079, 'thenearest': 3080, 'below': 3081, 'lion': 3082, 'stereo': 3083, 'georgetown': 3084, 'cupcake': 3085, 'latour': 3086, 'elliot': 3087, 'borgo': 3088, 'hester': 3089, 'wieners': 3090, 'stew': 3091, 'oh': 3092, 'breed': 3093, 'apart': 3094, 'hoggard': 3095, 'ocean’s': 3096, 'tower': 3097, 'gene': 3098, 'summers': 3099, 'highways': 3100, 'hiding': 3101, 'sperm': 3102, 'abington': 3103, 'curly': 3104, 'illustrated': 3105, 'biography': 3106, 'superstooge': 3107, 'fries': 3108, \"grandfather's\": 3109, 'office': 3110, 'janell': 3111, 'susie': 3112, 'guadeloupe': 3113, 'internet': 3114, 'jamelia': 3115, 'nike': 3116, 'tempo': 3117, 'roni': 3118, 'duani': 3119, \"'s\": 3120, 'restautant': 3121, 'shorty': 3122, 'clásica': 3123, 'sche': 3124, 'phoksundo': 3125, 'leif': 3126, 'erikson': 3127, 'til': 3128, 'shanghai': 3129, 'leadership': 3130, 'library': 3131, 'kids': 3132, 'klose': 3133, 'tus': 3134, 'fiestas': 3135, 'kakko': 3136, 'wakarusa': 3137, 'danielle': 3138, 'polanco': 3139, 'burkett': 3140, 'roseburg': 3141, 'ellington': 3142, 'newport': 3143, 'multi': 3144, 'ethnic': 3145, 'literature': 3146, 'carlos': 3147, 'libedinsky': 3148, 'zen': 3149, 'focus': 3150, 'mclaurin': 3151, 'gaston': 3152, 'daniel': 3153, 'reyes': 3154, 'lars': 3155, 'danielsson': 3156, 'january': 3157, '2029': 3158, 'cairngorms': 3159, 'interview': 3160, 'documentary': 3161, 'lower': 3162, 'marlboro': 3163, 'prompton': 3164, 'carman': 3165, '1966': 3166, 'playmaker': 3167, 'atlas': 3168, 'melisa': 3169, 'castillo': 3170, 'vicky': 3171, 'allen': 3172, 'sadorus': 3173, 'unleashing': 3174, 'nepal': 3175, 'victoria': 3176, 'whitney': 3177, 'callicoon': 3178, '40': 3179, 'does': 3180, 'circus': 3181, 'tailspin': 3182, 'ransom': 3183, 'ze': 3184, 'rak': 3185, 'sport': 3186, 'relajación': 3187, 'joi': 3188, 'chua': 3189, 'tibetan': 3190, 'living': 3191, 'hackamore': 3192, 'bireswar': 3193, 'braindead': 3194, 'megaphone': 3195, 'simon': 3196, 'schuster': 3197, 'prehistoric': 3198, 'creatures': 3199, 'bank': 3200, 'jeff': 3201, 'loomis': 3202, 'brotherly': 3203, 'crative': 3204, 'memory': 3205, 'qad': 3206, 'horoof': 3207, 'martina': 3208, 'mcbride': 3209, '1995': 3210, \"dante's\": 3211, 'peak': 3212, 'raf': 3213, 'theme': 3214, 'humboldt': 3215, 'millennium': 3216, 'chosrau': 3217, \"lacey's\": 3218, 'uproar': 3219, 'studio': 3220, 'medeiros': 3221, 'wc': 3222, 'handy': 3223, 'sax': 3224, 'tyrants': 3225, 'wraiths': 3226, 'cultural': 3227, 'depictions': 3228, 'shepard': 3229, 'maclaine': 3230, 'puba': 3231, 'names': 3232, 'playig': 3233, 'lawyer': 3234, 'indian': 3235, 'chief': 3236, 'synth': 3237, 'grievance': 3238, 'concussion': 3239, 'curiosity': 3240, 'quest': 3241, 'fascism': 3242, 'transformers': 3243, 'beast': 3244, 'machines': 3245, 'speaker': 3246, 'korra': 3247, 'preap': 3248, 'sovath': 3249, 'david': 3250, 'henry': 3251, 'hwang': 3252, 'nicky': 3253, 'klaus': 3254, 'badelt': 3255, 'auto': 3256, \"carla's\": 3257, 'oopdeewopdee': 3258, 'talks': 3259, \"00's\": 3260, 'utility': 3261, 'directory': 3262, 'board': 3263, '2030': 3264, 'jun': 3265, 'us': 3266, 'berkowitz': 3267, 'willow': 3268, 'closet': 3269, 'snooks': 3270, 'eaglin': 3271, 'lied': 3272, 'greyest': 3273, 'skies': 3274, 'inconvenient': 3275, 'truth': 3276, 'maldeamores': 3277, 'singing': 3278, 'nun': 3279, 'ryland': 3280, 'megaplex': 3281, 'brad': 3282, 'kane': 3283, 'pumping': 3284, 'crombie': 3285, 'inspire': 3286, 'latifa': 3287, 'qriii': 3288, 'sing': 3289, 'car': 3290, \"krystal's\": 3291, 'cup': 3292, 'winner': 3293, 'ace': 3294, 'spades': 3295, 'insurrection': 3296, 'charlie': 3297, 'higgins': 3298, 'bang': 3299, 'drum': 3300, 'grizzled': 3301, 'squirrel': 3302, 'sanctuary': 3303, 'aura': 3304, 'toujours': 3305, 'des': 3306, 'violons': 3307, 'dixieland': 3308, 'elvis': 3309, 'presley': 3310, 'electro': 3311, 'lafayette': 3312, 'pass': 3313, 'liebeslyrik': 3314, 'mellowed': 3315, '20': 3316, 'ingalls': 3317, 'malta': 3318, 'steve': 3319, 'swell': 3320, 'fondue': 3321, 'lil': 3322, 'hardin': 3323, 'l8': 3324, 'cmmr': 3325, 'spooning': 3326, 'grove': 3327, 'upper': 3328, 'klamath': 3329, 'masahiro': 3330, 'nakai': 3331, 'psychedelia': 3332, 'vigus': 3333, 'jackal': 3334, 'truck': 3335, 'albania': 3336, 'karobar': 3337, 'seventies': 3338, 'closestcinema': 3339, 'during': 3340, \"ines's\": 3341, 'apache': 3342, 'sitgreaves': 3343, 'dunja': 3344, 'du': 3345, 'ballad': 3346, 'weippe': 3347, 'children': 3348, 'jerusalem': 3349, 'yehuda': 3350, 'chelsea': 3351, 'equinox': 3352, 'camel': 3353, 'pasadena': 3354, 'building': 3355, 'construction': 3356, 'philippines': 3357, 'jim': 3358, 'yale': 3359, 'pastas': 3360, 'outlook': 3361, 'dundas': 3362, 'oaktown': 3363, 'calipuy': 3364, 'minotaur': 3365, 'shock': 3366, 'conda': 3367, 'don': 3368, 'moye': 3369, 'opposite': 3370, 'alta': 3371, 'frecuencia': 3372, 'amanda': 3373, 'stern': 3374, 'half': 3375, 'faroe': 3376, 'enter': 3377, 'lights': 3378, 'audio': 3379, 'gardner': 3380, 'indiana': 3381, 'biggest': 3382, 'loser': 3383, 'spirit': 3384, 'bouncy': 3385, 'techno': 3386, 'kelly': 3387, 'sex': 3388, 'darlene': 3389, 'lauren': 3390, 'sasha': 3391, 'mick': 3392, 'ghost': 3393, 'flame': 3394, 'dcode2016': 3395, 'lillian': 3396, 'edna': 3397, 'berghoff': 3398, 'im': 3399, 'shaolin': 3400, 'temple': 3401, 'elk': 3402, 'county': 3403, 'many': 3404, 'ways': 3405, 'highlands': 3406, 'charles': 3407, 'l': 3408, 'vinci': 3409, 'code': 3410, 'scud': 3411, 'disposable': 3412, 'assassin': 3413, 'casco': 3414, 'czechia': 3415, 'apr': 3416, 'fourteenth': 3417, 'encheiridion': 3418, 'yuvan': 3419, 'shankar': 3420, 'raja': 3421, 'shomoyer': 3422, 'kotha': 3423, 'samoa': 3424, 'thud': 3425, 'ridge': 3426, 'high': 3427, 'hopes': 3428, 'heartbreak': 3429, 'almost': 3430, 'independence': 3431, 'vitas': 3432, 'goan': 3433, 'lauber': 3434, 'nearly': 3435, 'nashville': 3436, 'tontitown': 3437, 'wwe': 3438, 'legends': 3439, 'wrestling': 3440, 'meriton': 3441, 'tallinn': 3442, 'barre': 3443, 'harbor': 3444, 'aired': 3445, 'flight': 3446, 'kathrine': 3447, 'smithville': 3448, 'wannadies': 3449, 'hourly': 3450, 'update': 3451, 'hallsville': 3452, 'mariem': 3453, 'hassan': 3454, 'leyoad': 3455, 'jack': 3456, 'concert': 3457, 'hutchings': 3458, 'troubles': 3459, 'suffer': 3460, '13th': 3461, '2019': 3462}\n",
            "vocab_size: 3462\n"
          ],
          "name": "stdout"
        }
      ]
    },
    {
      "cell_type": "code",
      "metadata": {
        "colab": {
          "base_uri": "https://localhost:8080/"
        },
        "id": "S1uyC9-L5UBb",
        "outputId": "3ed705fe-aa85-4509-83dc-b37a7fa462da"
      },
      "source": [
        "# convert a text to a sequence of words \n",
        "sequences = tokenizer.texts_to_sequences(sentences)\n",
        "# pad sequences to the same length\n",
        "padded = pad_sequences(sequences, maxlen=max_sequence_len, padding=padding_type, truncating=trunc_type)\n",
        "\n",
        "print(sequences[0])\n",
        "print(padded[0])"
      ],
      "execution_count": null,
      "outputs": [
        {
          "output_type": "stream",
          "text": [
            "[22, 123, 11, 17, 2, 1092, 18, 2, 1093, 202, 171, 88]\n",
            "[  22  123   11   17    2 1092   18    2 1093  202  171   88    0    0\n",
            "    0    0    0    0    0    0    0    0    0    0    0    0    0    0\n",
            "    0    0    0    0    0    0    0    0    0    0    0    0    0    0\n",
            "    0    0    0    0    0    0    0    0    0    0    0    0    0    0\n",
            "    0    0    0    0    0    0    0    0    0    0    0    0    0    0\n",
            "    0    0    0    0    0    0    0    0    0    0    0    0    0    0\n",
            "    0    0    0    0    0    0    0    0    0    0    0    0    0    0\n",
            "    0    0    0    0    0    0    0    0    0    0    0    0    0    0\n",
            "    0    0    0    0    0    0    0    0    0    0    0    0    0    0\n",
            "    0    0    0    0    0    0    0    0    0]\n"
          ],
          "name": "stdout"
        }
      ]
    },
    {
      "cell_type": "code",
      "metadata": {
        "id": "P9MIaB8FrqAO"
      },
      "source": [
        "# convert the tokenizer vocabulary to a JSON file\n",
        "with open('vocab.json' , 'w', encoding='utf8') as file:\n",
        "  json.dump(tokenizer.word_index, file, ensure_ascii=False)"
      ],
      "execution_count": null,
      "outputs": []
    },
    {
      "cell_type": "markdown",
      "metadata": {
        "id": "V_lGSLck2hZs"
      },
      "source": [
        "# Creating a model"
      ]
    },
    {
      "cell_type": "code",
      "metadata": {
        "id": "-P612QJh2Uit",
        "colab": {
          "base_uri": "https://localhost:8080/"
        },
        "outputId": "5e1ac37d-f4ec-4e58-9b9e-990291cfc62c"
      },
      "source": [
        "# potion 10% of the dataset for testing \n",
        "training_size = len(df)\n",
        "test_portion=.1\n",
        "\n",
        "# split the dataset into training and test data\n",
        "split = int(test_portion * training_size)\n",
        "test_sequences = padded[0:split]\n",
        "training_sequences = padded[split:training_size]\n",
        "test_labels = labels[0:split]\n",
        "training_labels = labels[split:training_size]\n",
        "\n",
        "print(\"test_sequences:\", len(test_sequences))\n",
        "print(\"training_sequences:\", len(training_sequences))"
      ],
      "execution_count": null,
      "outputs": [
        {
          "output_type": "stream",
          "text": [
            "test_sequences: 210\n",
            "training_sequences: 1890\n"
          ],
          "name": "stdout"
        }
      ]
    },
    {
      "cell_type": "code",
      "metadata": {
        "colab": {
          "base_uri": "https://localhost:8080/"
        },
        "id": "BfEMG9Q0L020",
        "outputId": "1785e3c9-86c4-4f36-8679-68fe3a906ace"
      },
      "source": [
        "# create a Bi-LSTM model\n",
        "embedding_dim = 50\n",
        "\n",
        "model = tf.keras.Sequential([\n",
        "    tf.keras.layers.Embedding(vocab_size+1, embedding_dim, input_length=max_sequence_len),\n",
        "    tf.keras.layers.Bidirectional(tf.keras.layers.LSTM(24)),\n",
        "    tf.keras.layers.Dense(7, activation='relu'),\n",
        "    tf.keras.layers.Dense(num_classes, activation='softmax')\n",
        "])\n",
        "\n",
        "model.compile(loss='sparse_categorical_crossentropy', optimizer=\"adam\", metrics=['accuracy'])\n",
        "model.summary()"
      ],
      "execution_count": null,
      "outputs": [
        {
          "output_type": "stream",
          "text": [
            "Model: \"sequential_7\"\n",
            "_________________________________________________________________\n",
            "Layer (type)                 Output Shape              Param #   \n",
            "=================================================================\n",
            "embedding_7 (Embedding)      (None, 135, 50)           173150    \n",
            "_________________________________________________________________\n",
            "bidirectional_7 (Bidirection (None, 48)                14400     \n",
            "_________________________________________________________________\n",
            "dense_14 (Dense)             (None, 7)                 343       \n",
            "_________________________________________________________________\n",
            "dense_15 (Dense)             (None, 7)                 56        \n",
            "=================================================================\n",
            "Total params: 187,949\n",
            "Trainable params: 187,949\n",
            "Non-trainable params: 0\n",
            "_________________________________________________________________\n"
          ],
          "name": "stdout"
        }
      ]
    },
    {
      "cell_type": "code",
      "metadata": {
        "id": "-ouK6VRxLX0c"
      },
      "source": [
        "# create a custom callback function\n",
        "class CustomCallbacks(tf.keras.callbacks.Callback):\n",
        "  \n",
        "  # create an early stopping function \n",
        "  def on_epoch_end(self, epoch, logs={}):\n",
        "    DESIRED_ACCURACY = 0.99\n",
        "    if(logs.get('accuracy')>DESIRED_ACCURACY):\n",
        "        print(\"\\n 99% accuracy reached\")\n",
        "        self.model.stop_training = True\n",
        "\n",
        "callbacks = CustomCallbacks()"
      ],
      "execution_count": null,
      "outputs": []
    },
    {
      "cell_type": "markdown",
      "metadata": {
        "id": "sACW-VfW4gvo"
      },
      "source": [
        "# Training a model "
      ]
    },
    {
      "cell_type": "code",
      "metadata": {
        "colab": {
          "base_uri": "https://localhost:8080/"
        },
        "id": "8AUgKBOjkTGo",
        "outputId": "12fcb6da-5b41-4bd4-8daa-de9f5e98f258"
      },
      "source": [
        "# train a model\n",
        "num_epochs = 20\n",
        "\n",
        "training_padded = np.array(training_sequences)\n",
        "training_labels = np.array(training_labels)\n",
        "testing_padded = np.array(test_sequences)\n",
        "testing_labels = np.array(test_labels)\n",
        "\n",
        "history = model.fit(training_padded, training_labels, \n",
        "                    epochs=num_epochs, \n",
        "                    callbacks=[callbacks],\n",
        "                    validation_data=(testing_padded, testing_labels), \n",
        "                    verbose=1)\n",
        "\n",
        "print(\"Training Complete\")"
      ],
      "execution_count": null,
      "outputs": [
        {
          "output_type": "stream",
          "text": [
            "Epoch 1/20\n",
            "60/60 [==============================] - 4s 31ms/step - loss: 1.9094 - accuracy: 0.3121 - val_loss: 1.6262 - val_accuracy: 0.5286\n",
            "Epoch 2/20\n",
            "60/60 [==============================] - 1s 13ms/step - loss: 1.3923 - accuracy: 0.6089 - val_loss: 0.8243 - val_accuracy: 0.8095\n",
            "Epoch 3/20\n",
            "60/60 [==============================] - 1s 13ms/step - loss: 0.7213 - accuracy: 0.8050 - val_loss: 0.5313 - val_accuracy: 0.8524\n",
            "Epoch 4/20\n",
            "60/60 [==============================] - 1s 13ms/step - loss: 0.4046 - accuracy: 0.8881 - val_loss: 0.4035 - val_accuracy: 0.9333\n",
            "Epoch 5/20\n",
            "60/60 [==============================] - 1s 13ms/step - loss: 0.2545 - accuracy: 0.9783 - val_loss: 0.3168 - val_accuracy: 0.9238\n",
            "Epoch 6/20\n",
            "60/60 [==============================] - 1s 13ms/step - loss: 0.1415 - accuracy: 0.9928 - val_loss: 0.2653 - val_accuracy: 0.9429\n",
            "\n",
            " 99% accuracy reached\n",
            "Training Complete\n"
          ],
          "name": "stdout"
        }
      ]
    },
    {
      "cell_type": "markdown",
      "metadata": {
        "id": "wCylIW6o4oDu"
      },
      "source": [
        "# Performence visualization"
      ]
    },
    {
      "cell_type": "code",
      "metadata": {
        "colab": {
          "base_uri": "https://localhost:8080/",
          "height": 279
        },
        "id": "ZqxzaCx0X9nP",
        "outputId": "58c00a17-193c-47c5-ff76-2aa0c7318576"
      },
      "source": [
        "def plot_graphs(history, string):\n",
        "  plt.plot(history.history[string])\n",
        "  plt.plot(history.history['val_'+string])\n",
        "  plt.xlabel(\"Epochs\")\n",
        "  plt.ylabel(string)\n",
        "  plt.legend([string, 'val_'+string])\n",
        "  plt.show()\n",
        "\n",
        "plot_graphs(history, 'accuracy')"
      ],
      "execution_count": null,
      "outputs": [
        {
          "output_type": "display_data",
          "data": {
            "image/png": "[encoded data removed]",
            "text/plain": [
              "<Figure size 432x288 with 1 Axes>"
            ]
          },
          "metadata": {
            "tags": [],
            "needs_background": "light"
          }
        }
      ]
    },
    {
      "cell_type": "code",
      "metadata": {
        "id": "qocou0WYgZl-",
        "colab": {
          "base_uri": "https://localhost:8080/",
          "height": 279
        },
        "outputId": "afc5f662-118f-4569-b4c3-36940bd09a40"
      },
      "source": [
        "plot_graphs(history, 'loss')"
      ],
      "execution_count": null,
      "outputs": [
        {
          "output_type": "display_data",
          "data": {
            "image/png": "[encoded data removed]",
            "text/plain": [
              "<Figure size 432x288 with 1 Axes>"
            ]
          },
          "metadata": {
            "tags": [],
            "needs_background": "light"
          }
        }
      ]
    },
    {
      "cell_type": "markdown",
      "metadata": {
        "id": "4xkJsl154sgZ"
      },
      "source": [
        "# Convert the Keras ( .h5 ) model to a TensorFlow Lite model ( .tflite )"
      ]
    },
    {
      "cell_type": "code",
      "metadata": {
        "colab": {
          "base_uri": "https://localhost:8080/"
        },
        "id": "P2Ohxd7pnQ-A",
        "outputId": "364d551a-bfdd-4990-fbf1-d78a438685d8"
      },
      "source": [
        "# Convert the model.\n",
        "converter = tf.lite.TFLiteConverter.from_keras_model(model)\n",
        "tflite_model = converter.convert()\n",
        "\n",
        "# Save the model.\n",
        "with open('intent_classification.tflite', 'wb') as f:\n",
        "    f.write(tflite_model)"
      ],
      "execution_count": null,
      "outputs": [
        {
          "output_type": "stream",
          "text": [
            "WARNING:absl:Found untraced functions such as lstm_cell_22_layer_call_and_return_conditional_losses, lstm_cell_22_layer_call_fn, lstm_cell_23_layer_call_and_return_conditional_losses, lstm_cell_23_layer_call_fn, lstm_cell_22_layer_call_fn while saving (showing 5 of 10). These functions will not be directly callable after loading.\n",
            "WARNING:absl:Found untraced functions such as lstm_cell_22_layer_call_and_return_conditional_losses, lstm_cell_22_layer_call_fn, lstm_cell_23_layer_call_and_return_conditional_losses, lstm_cell_23_layer_call_fn, lstm_cell_22_layer_call_fn while saving (showing 5 of 10). These functions will not be directly callable after loading.\n"
          ],
          "name": "stderr"
        },
        {
          "output_type": "stream",
          "text": [
            "INFO:tensorflow:Assets written to: /tmp/tmpxwaqy4wi/assets\n"
          ],
          "name": "stdout"
        },
        {
          "output_type": "stream",
          "text": [
            "INFO:tensorflow:Assets written to: /tmp/tmpxwaqy4wi/assets\n"
          ],
          "name": "stderr"
        }
      ]
    }
  ]
}